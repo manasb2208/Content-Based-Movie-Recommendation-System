{
  "nbformat": 4,
  "nbformat_minor": 0,
  "metadata": {
    "colab": {
      "name": "ContentBasedMovieRecommendor.ipynb",
      "provenance": [],
      "collapsed_sections": []
    },
    "kernelspec": {
      "name": "python3",
      "display_name": "Python 3"
    },
    "language_info": {
      "name": "python"
    }
  },
  "cells": [
    {
      "cell_type": "markdown",
      "metadata": {
        "id": "qVOzcMYYtuxN"
      },
      "source": [
        "#Retrieving the Dataset"
      ]
    },
    {
      "cell_type": "code",
      "metadata": {
        "id": "wNNt907LymmX"
      },
      "source": [
        "# Supressing the warning messages\n",
        "import warnings\n",
        "warnings.filterwarnings('ignore')"
      ],
      "execution_count": 58,
      "outputs": []
    },
    {
      "cell_type": "code",
      "metadata": {
        "colab": {
          "base_uri": "https://localhost:8080/"
        },
        "id": "j3bnIlVltjyn",
        "outputId": "b7453372-d910-4e2f-c5b1-d436c8a237a2"
      },
      "source": [
        "# Mounting your drive to colab\n",
        "\n",
        "from google.colab import drive\n",
        "drive.mount('/content/drive')"
      ],
      "execution_count": 2,
      "outputs": [
        {
          "output_type": "stream",
          "text": [
            "Mounted at /content/drive\n"
          ],
          "name": "stdout"
        }
      ]
    },
    {
      "cell_type": "code",
      "metadata": {
        "id": "YMk5ZYdnt0mb"
      },
      "source": [
        "# unzipping the dataset\n",
        "\n",
        "import zipfile as z\n",
        "zip_ref = z.ZipFile(\"/content/drive/My Drive/the-movies-dataset.zip\", \"r\")\n",
        "zip_ref.extractall(\"/content/\")\n",
        "zip_ref.close()"
      ],
      "execution_count": 3,
      "outputs": []
    },
    {
      "cell_type": "code",
      "metadata": {
        "colab": {
          "base_uri": "https://localhost:8080/"
        },
        "id": "qAXfB5yWt3RB",
        "outputId": "26391fd0-b208-4d6c-ad73-0bf238c12b66"
      },
      "source": [
        "# read the CSV file\n",
        "import pandas as pd\n",
        "\n",
        "md = pd.read_csv('/content/movies_metadata.csv')"
      ],
      "execution_count": 48,
      "outputs": [
        {
          "output_type": "stream",
          "text": [
            "/usr/local/lib/python3.7/dist-packages/IPython/core/interactiveshell.py:2718: DtypeWarning: Columns (10) have mixed types.Specify dtype option on import or set low_memory=False.\n",
            "  interactivity=interactivity, compiler=compiler, result=result)\n"
          ],
          "name": "stderr"
        }
      ]
    },
    {
      "cell_type": "code",
      "metadata": {
        "colab": {
          "base_uri": "https://localhost:8080/"
        },
        "id": "j-FWz1dtt9eK",
        "outputId": "5aa95142-d050-4eec-ba9f-95043cb0243c"
      },
      "source": [
        "md.shape"
      ],
      "execution_count": 32,
      "outputs": [
        {
          "output_type": "execute_result",
          "data": {
            "text/plain": [
              "(45466, 24)"
            ]
          },
          "metadata": {
            "tags": []
          },
          "execution_count": 32
        }
      ]
    },
    {
      "cell_type": "code",
      "metadata": {
        "colab": {
          "base_uri": "https://localhost:8080/",
          "height": 432
        },
        "id": "gRb0KZ9auGQ-",
        "outputId": "636bf824-16f3-4f2c-927c-fc1620554508"
      },
      "source": [
        "md.head(3)"
      ],
      "execution_count": 33,
      "outputs": [
        {
          "output_type": "execute_result",
          "data": {
            "text/html": [
              "<div>\n",
              "<style scoped>\n",
              "    .dataframe tbody tr th:only-of-type {\n",
              "        vertical-align: middle;\n",
              "    }\n",
              "\n",
              "    .dataframe tbody tr th {\n",
              "        vertical-align: top;\n",
              "    }\n",
              "\n",
              "    .dataframe thead th {\n",
              "        text-align: right;\n",
              "    }\n",
              "</style>\n",
              "<table border=\"1\" class=\"dataframe\">\n",
              "  <thead>\n",
              "    <tr style=\"text-align: right;\">\n",
              "      <th></th>\n",
              "      <th>adult</th>\n",
              "      <th>belongs_to_collection</th>\n",
              "      <th>budget</th>\n",
              "      <th>genres</th>\n",
              "      <th>homepage</th>\n",
              "      <th>id</th>\n",
              "      <th>imdb_id</th>\n",
              "      <th>original_language</th>\n",
              "      <th>original_title</th>\n",
              "      <th>overview</th>\n",
              "      <th>popularity</th>\n",
              "      <th>poster_path</th>\n",
              "      <th>production_companies</th>\n",
              "      <th>production_countries</th>\n",
              "      <th>release_date</th>\n",
              "      <th>revenue</th>\n",
              "      <th>runtime</th>\n",
              "      <th>spoken_languages</th>\n",
              "      <th>status</th>\n",
              "      <th>tagline</th>\n",
              "      <th>title</th>\n",
              "      <th>video</th>\n",
              "      <th>vote_average</th>\n",
              "      <th>vote_count</th>\n",
              "    </tr>\n",
              "  </thead>\n",
              "  <tbody>\n",
              "    <tr>\n",
              "      <th>0</th>\n",
              "      <td>False</td>\n",
              "      <td>{'id': 10194, 'name': 'Toy Story Collection', ...</td>\n",
              "      <td>30000000</td>\n",
              "      <td>[{'id': 16, 'name': 'Animation'}, {'id': 35, '...</td>\n",
              "      <td>http://toystory.disney.com/toy-story</td>\n",
              "      <td>862</td>\n",
              "      <td>tt0114709</td>\n",
              "      <td>en</td>\n",
              "      <td>Toy Story</td>\n",
              "      <td>Led by Woody, Andy's toys live happily in his ...</td>\n",
              "      <td>21.9469</td>\n",
              "      <td>/rhIRbceoE9lR4veEXuwCC2wARtG.jpg</td>\n",
              "      <td>[{'name': 'Pixar Animation Studios', 'id': 3}]</td>\n",
              "      <td>[{'iso_3166_1': 'US', 'name': 'United States o...</td>\n",
              "      <td>1995-10-30</td>\n",
              "      <td>373554033.0</td>\n",
              "      <td>81.0</td>\n",
              "      <td>[{'iso_639_1': 'en', 'name': 'English'}]</td>\n",
              "      <td>Released</td>\n",
              "      <td>NaN</td>\n",
              "      <td>Toy Story</td>\n",
              "      <td>False</td>\n",
              "      <td>7.7</td>\n",
              "      <td>5415.0</td>\n",
              "    </tr>\n",
              "    <tr>\n",
              "      <th>1</th>\n",
              "      <td>False</td>\n",
              "      <td>NaN</td>\n",
              "      <td>65000000</td>\n",
              "      <td>[{'id': 12, 'name': 'Adventure'}, {'id': 14, '...</td>\n",
              "      <td>NaN</td>\n",
              "      <td>8844</td>\n",
              "      <td>tt0113497</td>\n",
              "      <td>en</td>\n",
              "      <td>Jumanji</td>\n",
              "      <td>When siblings Judy and Peter discover an encha...</td>\n",
              "      <td>17.0155</td>\n",
              "      <td>/vzmL6fP7aPKNKPRTFnZmiUfciyV.jpg</td>\n",
              "      <td>[{'name': 'TriStar Pictures', 'id': 559}, {'na...</td>\n",
              "      <td>[{'iso_3166_1': 'US', 'name': 'United States o...</td>\n",
              "      <td>1995-12-15</td>\n",
              "      <td>262797249.0</td>\n",
              "      <td>104.0</td>\n",
              "      <td>[{'iso_639_1': 'en', 'name': 'English'}, {'iso...</td>\n",
              "      <td>Released</td>\n",
              "      <td>Roll the dice and unleash the excitement!</td>\n",
              "      <td>Jumanji</td>\n",
              "      <td>False</td>\n",
              "      <td>6.9</td>\n",
              "      <td>2413.0</td>\n",
              "    </tr>\n",
              "    <tr>\n",
              "      <th>2</th>\n",
              "      <td>False</td>\n",
              "      <td>{'id': 119050, 'name': 'Grumpy Old Men Collect...</td>\n",
              "      <td>0</td>\n",
              "      <td>[{'id': 10749, 'name': 'Romance'}, {'id': 35, ...</td>\n",
              "      <td>NaN</td>\n",
              "      <td>15602</td>\n",
              "      <td>tt0113228</td>\n",
              "      <td>en</td>\n",
              "      <td>Grumpier Old Men</td>\n",
              "      <td>A family wedding reignites the ancient feud be...</td>\n",
              "      <td>11.7129</td>\n",
              "      <td>/6ksm1sjKMFLbO7UY2i6G1ju9SML.jpg</td>\n",
              "      <td>[{'name': 'Warner Bros.', 'id': 6194}, {'name'...</td>\n",
              "      <td>[{'iso_3166_1': 'US', 'name': 'United States o...</td>\n",
              "      <td>1995-12-22</td>\n",
              "      <td>0.0</td>\n",
              "      <td>101.0</td>\n",
              "      <td>[{'iso_639_1': 'en', 'name': 'English'}]</td>\n",
              "      <td>Released</td>\n",
              "      <td>Still Yelling. Still Fighting. Still Ready for...</td>\n",
              "      <td>Grumpier Old Men</td>\n",
              "      <td>False</td>\n",
              "      <td>6.5</td>\n",
              "      <td>92.0</td>\n",
              "    </tr>\n",
              "  </tbody>\n",
              "</table>\n",
              "</div>"
            ],
            "text/plain": [
              "   adult  ... vote_count\n",
              "0  False  ...     5415.0\n",
              "1  False  ...     2413.0\n",
              "2  False  ...       92.0\n",
              "\n",
              "[3 rows x 24 columns]"
            ]
          },
          "metadata": {
            "tags": []
          },
          "execution_count": 33
        }
      ]
    },
    {
      "cell_type": "markdown",
      "metadata": {
        "id": "PegYZgEjucsh"
      },
      "source": [
        "md dataset Contains information on 45,000 movies featured in the Full MovieLens dataset."
      ]
    },
    {
      "cell_type": "code",
      "metadata": {
        "colab": {
          "base_uri": "https://localhost:8080/"
        },
        "id": "3CLBRBgTuH6u",
        "outputId": "1a5f9b50-6cd6-4751-d677-f5458372f7b0"
      },
      "source": [
        "print(md.columns)\n",
        "len(md.columns)"
      ],
      "execution_count": 34,
      "outputs": [
        {
          "output_type": "stream",
          "text": [
            "Index(['adult', 'belongs_to_collection', 'budget', 'genres', 'homepage', 'id',\n",
            "       'imdb_id', 'original_language', 'original_title', 'overview',\n",
            "       'popularity', 'poster_path', 'production_companies',\n",
            "       'production_countries', 'release_date', 'revenue', 'runtime',\n",
            "       'spoken_languages', 'status', 'tagline', 'title', 'video',\n",
            "       'vote_average', 'vote_count'],\n",
            "      dtype='object')\n"
          ],
          "name": "stdout"
        },
        {
          "output_type": "execute_result",
          "data": {
            "text/plain": [
              "24"
            ]
          },
          "metadata": {
            "tags": []
          },
          "execution_count": 34
        }
      ]
    },
    {
      "cell_type": "markdown",
      "metadata": {
        "id": "HWPHzprGxTjA"
      },
      "source": [
        "In the kaggle data escription it is mentioned that the below three rows contain most of the nan values,I decide to remove the rows from dataset"
      ]
    },
    {
      "cell_type": "code",
      "metadata": {
        "colab": {
          "base_uri": "https://localhost:8080/",
          "height": 364
        },
        "id": "i45yRXoWuNme",
        "outputId": "a19cb883-8d12-4220-e05e-ab9100790fde"
      },
      "source": [
        "md.iloc[[19730, 29503, 35587]]"
      ],
      "execution_count": 49,
      "outputs": [
        {
          "output_type": "execute_result",
          "data": {
            "text/html": [
              "<div>\n",
              "<style scoped>\n",
              "    .dataframe tbody tr th:only-of-type {\n",
              "        vertical-align: middle;\n",
              "    }\n",
              "\n",
              "    .dataframe tbody tr th {\n",
              "        vertical-align: top;\n",
              "    }\n",
              "\n",
              "    .dataframe thead th {\n",
              "        text-align: right;\n",
              "    }\n",
              "</style>\n",
              "<table border=\"1\" class=\"dataframe\">\n",
              "  <thead>\n",
              "    <tr style=\"text-align: right;\">\n",
              "      <th></th>\n",
              "      <th>adult</th>\n",
              "      <th>belongs_to_collection</th>\n",
              "      <th>budget</th>\n",
              "      <th>genres</th>\n",
              "      <th>homepage</th>\n",
              "      <th>id</th>\n",
              "      <th>imdb_id</th>\n",
              "      <th>original_language</th>\n",
              "      <th>original_title</th>\n",
              "      <th>overview</th>\n",
              "      <th>popularity</th>\n",
              "      <th>poster_path</th>\n",
              "      <th>production_companies</th>\n",
              "      <th>production_countries</th>\n",
              "      <th>release_date</th>\n",
              "      <th>revenue</th>\n",
              "      <th>runtime</th>\n",
              "      <th>spoken_languages</th>\n",
              "      <th>status</th>\n",
              "      <th>tagline</th>\n",
              "      <th>title</th>\n",
              "      <th>video</th>\n",
              "      <th>vote_average</th>\n",
              "      <th>vote_count</th>\n",
              "    </tr>\n",
              "  </thead>\n",
              "  <tbody>\n",
              "    <tr>\n",
              "      <th>19730</th>\n",
              "      <td>- Written by Ørnås</td>\n",
              "      <td>0.065736</td>\n",
              "      <td>/ff9qCepilowshEtG2GYWwzt2bs4.jpg</td>\n",
              "      <td>[{'name': 'Carousel Productions', 'id': 11176}...</td>\n",
              "      <td>[{'iso_3166_1': 'CA', 'name': 'Canada'}, {'iso...</td>\n",
              "      <td>1997-08-20</td>\n",
              "      <td>0</td>\n",
              "      <td>104.0</td>\n",
              "      <td>[{'iso_639_1': 'en', 'name': 'English'}]</td>\n",
              "      <td>Released</td>\n",
              "      <td>NaN</td>\n",
              "      <td>Midnight Man</td>\n",
              "      <td>False</td>\n",
              "      <td>6.0</td>\n",
              "      <td>1</td>\n",
              "      <td>NaN</td>\n",
              "      <td>NaN</td>\n",
              "      <td>NaN</td>\n",
              "      <td>NaN</td>\n",
              "      <td>NaN</td>\n",
              "      <td>NaN</td>\n",
              "      <td>NaN</td>\n",
              "      <td>NaN</td>\n",
              "      <td>NaN</td>\n",
              "    </tr>\n",
              "    <tr>\n",
              "      <th>29503</th>\n",
              "      <td>Rune Balot goes to a casino connected to the ...</td>\n",
              "      <td>1.931659</td>\n",
              "      <td>/zV8bHuSL6WXoD6FWogP9j4x80bL.jpg</td>\n",
              "      <td>[{'name': 'Aniplex', 'id': 2883}, {'name': 'Go...</td>\n",
              "      <td>[{'iso_3166_1': 'US', 'name': 'United States o...</td>\n",
              "      <td>2012-09-29</td>\n",
              "      <td>0</td>\n",
              "      <td>68.0</td>\n",
              "      <td>[{'iso_639_1': 'ja', 'name': '日本語'}]</td>\n",
              "      <td>Released</td>\n",
              "      <td>NaN</td>\n",
              "      <td>Mardock Scramble: The Third Exhaust</td>\n",
              "      <td>False</td>\n",
              "      <td>7.0</td>\n",
              "      <td>12</td>\n",
              "      <td>NaN</td>\n",
              "      <td>NaN</td>\n",
              "      <td>NaN</td>\n",
              "      <td>NaN</td>\n",
              "      <td>NaN</td>\n",
              "      <td>NaN</td>\n",
              "      <td>NaN</td>\n",
              "      <td>NaN</td>\n",
              "      <td>NaN</td>\n",
              "    </tr>\n",
              "    <tr>\n",
              "      <th>35587</th>\n",
              "      <td>Avalanche Sharks tells the story of a bikini ...</td>\n",
              "      <td>2.185485</td>\n",
              "      <td>/zaSf5OG7V8X8gqFvly88zDdRm46.jpg</td>\n",
              "      <td>[{'name': 'Odyssey Media', 'id': 17161}, {'nam...</td>\n",
              "      <td>[{'iso_3166_1': 'CA', 'name': 'Canada'}]</td>\n",
              "      <td>2014-01-01</td>\n",
              "      <td>0</td>\n",
              "      <td>82.0</td>\n",
              "      <td>[{'iso_639_1': 'en', 'name': 'English'}]</td>\n",
              "      <td>Released</td>\n",
              "      <td>Beware Of Frost Bites</td>\n",
              "      <td>Avalanche Sharks</td>\n",
              "      <td>False</td>\n",
              "      <td>4.3</td>\n",
              "      <td>22</td>\n",
              "      <td>NaN</td>\n",
              "      <td>NaN</td>\n",
              "      <td>NaN</td>\n",
              "      <td>NaN</td>\n",
              "      <td>NaN</td>\n",
              "      <td>NaN</td>\n",
              "      <td>NaN</td>\n",
              "      <td>NaN</td>\n",
              "      <td>NaN</td>\n",
              "    </tr>\n",
              "  </tbody>\n",
              "</table>\n",
              "</div>"
            ],
            "text/plain": [
              "                                                   adult  ... vote_count\n",
              "19730                                 - Written by Ørnås  ...        NaN\n",
              "29503   Rune Balot goes to a casino connected to the ...  ...        NaN\n",
              "35587   Avalanche Sharks tells the story of a bikini ...  ...        NaN\n",
              "\n",
              "[3 rows x 24 columns]"
            ]
          },
          "metadata": {
            "tags": []
          },
          "execution_count": 49
        }
      ]
    },
    {
      "cell_type": "code",
      "metadata": {
        "id": "Nns7pY-sxBkL"
      },
      "source": [
        "# droping rows by index\n",
        "md = md.drop([19730, 29503, 35587])"
      ],
      "execution_count": 50,
      "outputs": []
    },
    {
      "cell_type": "markdown",
      "metadata": {
        "id": "MbD4WK25xa7w"
      },
      "source": [
        "links_small data contains the TMDB and IMDB IDs of a small subset of 9,000 movies of the Full Dataset and I am working on the small data set."
      ]
    },
    {
      "cell_type": "code",
      "metadata": {
        "colab": {
          "base_uri": "https://localhost:8080/",
          "height": 411
        },
        "id": "TK276orfwS-0",
        "outputId": "5735d164-fa9d-41db-d31c-50df61710cb3"
      },
      "source": [
        "links_small=pd.read_csv(\"/content/links_small.csv\")\n",
        "links_small"
      ],
      "execution_count": 51,
      "outputs": [
        {
          "output_type": "execute_result",
          "data": {
            "text/html": [
              "<div>\n",
              "<style scoped>\n",
              "    .dataframe tbody tr th:only-of-type {\n",
              "        vertical-align: middle;\n",
              "    }\n",
              "\n",
              "    .dataframe tbody tr th {\n",
              "        vertical-align: top;\n",
              "    }\n",
              "\n",
              "    .dataframe thead th {\n",
              "        text-align: right;\n",
              "    }\n",
              "</style>\n",
              "<table border=\"1\" class=\"dataframe\">\n",
              "  <thead>\n",
              "    <tr style=\"text-align: right;\">\n",
              "      <th></th>\n",
              "      <th>movieId</th>\n",
              "      <th>imdbId</th>\n",
              "      <th>tmdbId</th>\n",
              "    </tr>\n",
              "  </thead>\n",
              "  <tbody>\n",
              "    <tr>\n",
              "      <th>0</th>\n",
              "      <td>1</td>\n",
              "      <td>114709</td>\n",
              "      <td>862.0</td>\n",
              "    </tr>\n",
              "    <tr>\n",
              "      <th>1</th>\n",
              "      <td>2</td>\n",
              "      <td>113497</td>\n",
              "      <td>8844.0</td>\n",
              "    </tr>\n",
              "    <tr>\n",
              "      <th>2</th>\n",
              "      <td>3</td>\n",
              "      <td>113228</td>\n",
              "      <td>15602.0</td>\n",
              "    </tr>\n",
              "    <tr>\n",
              "      <th>3</th>\n",
              "      <td>4</td>\n",
              "      <td>114885</td>\n",
              "      <td>31357.0</td>\n",
              "    </tr>\n",
              "    <tr>\n",
              "      <th>4</th>\n",
              "      <td>5</td>\n",
              "      <td>113041</td>\n",
              "      <td>11862.0</td>\n",
              "    </tr>\n",
              "    <tr>\n",
              "      <th>...</th>\n",
              "      <td>...</td>\n",
              "      <td>...</td>\n",
              "      <td>...</td>\n",
              "    </tr>\n",
              "    <tr>\n",
              "      <th>9120</th>\n",
              "      <td>162672</td>\n",
              "      <td>3859980</td>\n",
              "      <td>402672.0</td>\n",
              "    </tr>\n",
              "    <tr>\n",
              "      <th>9121</th>\n",
              "      <td>163056</td>\n",
              "      <td>4262980</td>\n",
              "      <td>315011.0</td>\n",
              "    </tr>\n",
              "    <tr>\n",
              "      <th>9122</th>\n",
              "      <td>163949</td>\n",
              "      <td>2531318</td>\n",
              "      <td>391698.0</td>\n",
              "    </tr>\n",
              "    <tr>\n",
              "      <th>9123</th>\n",
              "      <td>164977</td>\n",
              "      <td>27660</td>\n",
              "      <td>137608.0</td>\n",
              "    </tr>\n",
              "    <tr>\n",
              "      <th>9124</th>\n",
              "      <td>164979</td>\n",
              "      <td>3447228</td>\n",
              "      <td>410803.0</td>\n",
              "    </tr>\n",
              "  </tbody>\n",
              "</table>\n",
              "<p>9125 rows × 3 columns</p>\n",
              "</div>"
            ],
            "text/plain": [
              "      movieId   imdbId    tmdbId\n",
              "0           1   114709     862.0\n",
              "1           2   113497    8844.0\n",
              "2           3   113228   15602.0\n",
              "3           4   114885   31357.0\n",
              "4           5   113041   11862.0\n",
              "...       ...      ...       ...\n",
              "9120   162672  3859980  402672.0\n",
              "9121   163056  4262980  315011.0\n",
              "9122   163949  2531318  391698.0\n",
              "9123   164977    27660  137608.0\n",
              "9124   164979  3447228  410803.0\n",
              "\n",
              "[9125 rows x 3 columns]"
            ]
          },
          "metadata": {
            "tags": []
          },
          "execution_count": 51
        }
      ]
    },
    {
      "cell_type": "code",
      "metadata": {
        "id": "mgT1oZ4Vwxjp"
      },
      "source": [
        "links_small = links_small[links_small['tmdbId'].notnull()]['tmdbId'].astype('int')"
      ],
      "execution_count": 52,
      "outputs": []
    },
    {
      "cell_type": "code",
      "metadata": {
        "colab": {
          "base_uri": "https://localhost:8080/"
        },
        "id": "TuEFn0i0w0ND",
        "outputId": "0f34871c-9716-4a58-c82f-99d8bf218384"
      },
      "source": [
        "links_small"
      ],
      "execution_count": 53,
      "outputs": [
        {
          "output_type": "execute_result",
          "data": {
            "text/plain": [
              "0          862\n",
              "1         8844\n",
              "2        15602\n",
              "3        31357\n",
              "4        11862\n",
              "         ...  \n",
              "9120    402672\n",
              "9121    315011\n",
              "9122    391698\n",
              "9123    137608\n",
              "9124    410803\n",
              "Name: tmdbId, Length: 9112, dtype: int64"
            ]
          },
          "metadata": {
            "tags": []
          },
          "execution_count": 53
        }
      ]
    },
    {
      "cell_type": "code",
      "metadata": {
        "colab": {
          "base_uri": "https://localhost:8080/"
        },
        "id": "Gf3_jOOjvrMq",
        "outputId": "74f87b12-6fe2-47e5-b0b8-45cfbc4e77ae"
      },
      "source": [
        "#performing look up opertion on all movies that are present in links_small dataset\n",
        "md['id'] = md['id'].astype('int')\n",
        "smd = md[md['id'].isin(links_small)]\n",
        "smd.shape"
      ],
      "execution_count": 55,
      "outputs": [
        {
          "output_type": "execute_result",
          "data": {
            "text/plain": [
              "(9099, 24)"
            ]
          },
          "metadata": {
            "tags": []
          },
          "execution_count": 55
        }
      ]
    },
    {
      "cell_type": "markdown",
      "metadata": {
        "id": "ZvUnetjnxswf"
      },
      "source": [
        "So, smd is the dataset I will be working on."
      ]
    },
    {
      "cell_type": "markdown",
      "metadata": {
        "id": "2ozz1auBx50W"
      },
      "source": [
        "#Description based recommendation"
      ]
    },
    {
      "cell_type": "markdown",
      "metadata": {
        "id": "CgsyvfJrx_gY"
      },
      "source": [
        "Desciption implies the tagline and the overview column, so my tendency is to bring them together and apply a vectorization menthod on the Description keywords."
      ]
    },
    {
      "cell_type": "code",
      "metadata": {
        "colab": {
          "base_uri": "https://localhost:8080/"
        },
        "id": "SXkdw5G8wA5m",
        "outputId": "3381cb03-97b7-4521-bef1-bd3ce0781705"
      },
      "source": [
        "smd['tagline']"
      ],
      "execution_count": 56,
      "outputs": [
        {
          "output_type": "execute_result",
          "data": {
            "text/plain": [
              "0                                                      NaN\n",
              "1                Roll the dice and unleash the excitement!\n",
              "2        Still Yelling. Still Fighting. Still Ready for...\n",
              "3        Friends are the people who let you be yourself...\n",
              "4        Just When His World Is Back To Normal... He's ...\n",
              "                               ...                        \n",
              "40224                      A god incarnate. A city doomed.\n",
              "40503              The band you know. The story you don't.\n",
              "44821                        Pokémon: Spell of the Unknown\n",
              "44826                                                  NaN\n",
              "45265                                                  NaN\n",
              "Name: tagline, Length: 9099, dtype: object"
            ]
          },
          "metadata": {
            "tags": []
          },
          "execution_count": 56
        }
      ]
    },
    {
      "cell_type": "code",
      "metadata": {
        "id": "kXsu9F0OyZ3I"
      },
      "source": [
        "smd['tagline'] = smd['tagline'].fillna(' ')"
      ],
      "execution_count": 59,
      "outputs": []
    },
    {
      "cell_type": "code",
      "metadata": {
        "colab": {
          "base_uri": "https://localhost:8080/"
        },
        "id": "YgXTKcDkycMi",
        "outputId": "edd788f0-eace-43e2-9412-bba13bc669df"
      },
      "source": [
        "smd['tagline']"
      ],
      "execution_count": 60,
      "outputs": [
        {
          "output_type": "execute_result",
          "data": {
            "text/plain": [
              "0                                                         \n",
              "1                Roll the dice and unleash the excitement!\n",
              "2        Still Yelling. Still Fighting. Still Ready for...\n",
              "3        Friends are the people who let you be yourself...\n",
              "4        Just When His World Is Back To Normal... He's ...\n",
              "                               ...                        \n",
              "40224                      A god incarnate. A city doomed.\n",
              "40503              The band you know. The story you don't.\n",
              "44821                        Pokémon: Spell of the Unknown\n",
              "44826                                                     \n",
              "45265                                                     \n",
              "Name: tagline, Length: 9099, dtype: object"
            ]
          },
          "metadata": {
            "tags": []
          },
          "execution_count": 60
        }
      ]
    },
    {
      "cell_type": "code",
      "metadata": {
        "id": "G1MnPD0dytrf"
      },
      "source": [
        "# Merging Overview and title together\n",
        "\n",
        "\n",
        "smd['description'] = smd['overview'] + smd['tagline']\n",
        "smd['description'] = smd['description'].fillna(' ')"
      ],
      "execution_count": 61,
      "outputs": []
    },
    {
      "cell_type": "code",
      "metadata": {
        "colab": {
          "base_uri": "https://localhost:8080/"
        },
        "id": "KNsdimGYy0jG",
        "outputId": "9e3fd5c0-2141-493a-89f9-3bff021cda56"
      },
      "source": [
        "smd.columns"
      ],
      "execution_count": 62,
      "outputs": [
        {
          "output_type": "execute_result",
          "data": {
            "text/plain": [
              "Index(['adult', 'belongs_to_collection', 'budget', 'genres', 'homepage', 'id',\n",
              "       'imdb_id', 'original_language', 'original_title', 'overview',\n",
              "       'popularity', 'poster_path', 'production_companies',\n",
              "       'production_countries', 'release_date', 'revenue', 'runtime',\n",
              "       'spoken_languages', 'status', 'tagline', 'title', 'video',\n",
              "       'vote_average', 'vote_count', 'description'],\n",
              "      dtype='object')"
            ]
          },
          "metadata": {
            "tags": []
          },
          "execution_count": 62
        }
      ]
    },
    {
      "cell_type": "markdown",
      "metadata": {
        "id": "gF0CQyOPy5TH"
      },
      "source": [
        "The Description Column is being created."
      ]
    },
    {
      "cell_type": "code",
      "metadata": {
        "id": "bGwTdoAxy3XT"
      },
      "source": [
        "from sklearn.feature_extraction.text import TfidfVectorizer\n",
        "tf = TfidfVectorizer(analyzer='word',min_df=0, stop_words='english')\n",
        "tfidf_matrix = tf.fit_transform(smd['description'])"
      ],
      "execution_count": 63,
      "outputs": []
    },
    {
      "cell_type": "markdown",
      "metadata": {
        "id": "dhBjT-LGzHZ2"
      },
      "source": [
        "Applying tfidf vectorizer the feature vectorization is done."
      ]
    },
    {
      "cell_type": "code",
      "metadata": {
        "colab": {
          "base_uri": "https://localhost:8080/"
        },
        "id": "goLAyndHznBP",
        "outputId": "97b8a26d-bb9f-4f47-f39e-bc0f3ab949fb"
      },
      "source": [
        "from sklearn.metrics.pairwise import cosine_similarity\n",
        "cosine_sim = cosine_similarity(tfidf_matrix, tfidf_matrix)\n",
        "cosine_sim[0]"
      ],
      "execution_count": 67,
      "outputs": [
        {
          "output_type": "execute_result",
          "data": {
            "text/plain": [
              "array([1.        , 0.01667298, 0.        , ..., 0.        , 0.0067194 ,\n",
              "       0.        ])"
            ]
          },
          "metadata": {
            "tags": []
          },
          "execution_count": 67
        }
      ]
    },
    {
      "cell_type": "markdown",
      "metadata": {
        "id": "6a3cjNsDzrh8"
      },
      "source": [
        "finding the movie similarity based on description vector keys.The method works on the principle of cosine similarity."
      ]
    },
    {
      "cell_type": "code",
      "metadata": {
        "id": "lAffuZn4zGTF"
      },
      "source": [
        "smd = smd.reset_index()\n",
        "titles = smd['title']\n",
        "# finding indices of every title\n",
        "indices = pd.Series(smd.index, index=titles)"
      ],
      "execution_count": 64,
      "outputs": []
    },
    {
      "cell_type": "code",
      "metadata": {
        "id": "FTG82092zU-j"
      },
      "source": [
        "def get_recommendations(title):\n",
        "    idx = indices[title]\n",
        "    sim_scores = list(enumerate(cosine_sim[idx]))\n",
        "    sim_scores = sorted(sim_scores, key=lambda x: x[1], reverse=True)#sorts in descending order\n",
        "    sim_scores = sim_scores[1:31]\n",
        "    movie_indices = [i[0] for i in sim_scores]\n",
        "    return titles.iloc[movie_indices]"
      ],
      "execution_count": 65,
      "outputs": []
    },
    {
      "cell_type": "code",
      "metadata": {
        "colab": {
          "base_uri": "https://localhost:8080/"
        },
        "id": "nWKhc_JUzYyD",
        "outputId": "6d51376d-9390-4ac1-dd1f-c1a3e14ae2f9"
      },
      "source": [
        "#testing result.\n",
        "get_recommendations('The Godfather').head(10)"
      ],
      "execution_count": 68,
      "outputs": [
        {
          "output_type": "execute_result",
          "data": {
            "text/plain": [
              "973      The Godfather: Part II\n",
              "1582    The Godfather: Part III\n",
              "3509                       Made\n",
              "4196         Johnny Dangerously\n",
              "8387                 The Family\n",
              "7760              Henry's Crime\n",
              "7591                    Machete\n",
              "9076            The Maid's Room\n",
              "5593                     Eulogy\n",
              "2412             American Movie\n",
              "Name: title, dtype: object"
            ]
          },
          "metadata": {
            "tags": []
          },
          "execution_count": 68
        }
      ]
    },
    {
      "cell_type": "markdown",
      "metadata": {
        "id": "ujVpH-Qf0IlX"
      },
      "source": [
        "#Metadata based recommendation"
      ]
    },
    {
      "cell_type": "markdown",
      "metadata": {
        "id": "Jk6yViJu0hfh"
      },
      "source": [
        "All the associated metadata is given along with tha main dataset, at first i import/read those files."
      ]
    },
    {
      "cell_type": "code",
      "metadata": {
        "id": "3U_xAa4N0TEH"
      },
      "source": [
        "credits = pd.read_csv('/content/credits.csv')\n",
        "keywords = pd.read_csv('/content/keywords.csv')"
      ],
      "execution_count": 103,
      "outputs": []
    },
    {
      "cell_type": "code",
      "metadata": {
        "colab": {
          "base_uri": "https://localhost:8080/"
        },
        "id": "UQ42IEnJ00dF",
        "outputId": "59c24b51-4478-4f14-95d1-363bcdd84312"
      },
      "source": [
        "credits.shape"
      ],
      "execution_count": 104,
      "outputs": [
        {
          "output_type": "execute_result",
          "data": {
            "text/plain": [
              "(45476, 3)"
            ]
          },
          "metadata": {
            "tags": []
          },
          "execution_count": 104
        }
      ]
    },
    {
      "cell_type": "code",
      "metadata": {
        "colab": {
          "base_uri": "https://localhost:8080/",
          "height": 139
        },
        "id": "tF_y0fj-03ib",
        "outputId": "1c607aed-b74d-4890-ef27-11cedc8094fb"
      },
      "source": [
        "credits.head(3)"
      ],
      "execution_count": 105,
      "outputs": [
        {
          "output_type": "execute_result",
          "data": {
            "text/html": [
              "<div>\n",
              "<style scoped>\n",
              "    .dataframe tbody tr th:only-of-type {\n",
              "        vertical-align: middle;\n",
              "    }\n",
              "\n",
              "    .dataframe tbody tr th {\n",
              "        vertical-align: top;\n",
              "    }\n",
              "\n",
              "    .dataframe thead th {\n",
              "        text-align: right;\n",
              "    }\n",
              "</style>\n",
              "<table border=\"1\" class=\"dataframe\">\n",
              "  <thead>\n",
              "    <tr style=\"text-align: right;\">\n",
              "      <th></th>\n",
              "      <th>cast</th>\n",
              "      <th>crew</th>\n",
              "      <th>id</th>\n",
              "    </tr>\n",
              "  </thead>\n",
              "  <tbody>\n",
              "    <tr>\n",
              "      <th>0</th>\n",
              "      <td>[{'cast_id': 14, 'character': 'Woody (voice)',...</td>\n",
              "      <td>[{'credit_id': '52fe4284c3a36847f8024f49', 'de...</td>\n",
              "      <td>862</td>\n",
              "    </tr>\n",
              "    <tr>\n",
              "      <th>1</th>\n",
              "      <td>[{'cast_id': 1, 'character': 'Alan Parrish', '...</td>\n",
              "      <td>[{'credit_id': '52fe44bfc3a36847f80a7cd1', 'de...</td>\n",
              "      <td>8844</td>\n",
              "    </tr>\n",
              "    <tr>\n",
              "      <th>2</th>\n",
              "      <td>[{'cast_id': 2, 'character': 'Max Goldman', 'c...</td>\n",
              "      <td>[{'credit_id': '52fe466a9251416c75077a89', 'de...</td>\n",
              "      <td>15602</td>\n",
              "    </tr>\n",
              "  </tbody>\n",
              "</table>\n",
              "</div>"
            ],
            "text/plain": [
              "                                                cast  ...     id\n",
              "0  [{'cast_id': 14, 'character': 'Woody (voice)',...  ...    862\n",
              "1  [{'cast_id': 1, 'character': 'Alan Parrish', '...  ...   8844\n",
              "2  [{'cast_id': 2, 'character': 'Max Goldman', 'c...  ...  15602\n",
              "\n",
              "[3 rows x 3 columns]"
            ]
          },
          "metadata": {
            "tags": []
          },
          "execution_count": 105
        }
      ]
    },
    {
      "cell_type": "code",
      "metadata": {
        "colab": {
          "base_uri": "https://localhost:8080/"
        },
        "id": "FBo4wAiM07Kn",
        "outputId": "89fe9339-354c-48ef-d24e-5876eca00e2b"
      },
      "source": [
        "keywords.shape"
      ],
      "execution_count": 106,
      "outputs": [
        {
          "output_type": "execute_result",
          "data": {
            "text/plain": [
              "(46419, 2)"
            ]
          },
          "metadata": {
            "tags": []
          },
          "execution_count": 106
        }
      ]
    },
    {
      "cell_type": "code",
      "metadata": {
        "colab": {
          "base_uri": "https://localhost:8080/",
          "height": 139
        },
        "id": "z5nFqfPt1AG3",
        "outputId": "0d78daee-90b6-469a-aa68-51c7f5a6b368"
      },
      "source": [
        "keywords.head(3)"
      ],
      "execution_count": 107,
      "outputs": [
        {
          "output_type": "execute_result",
          "data": {
            "text/html": [
              "<div>\n",
              "<style scoped>\n",
              "    .dataframe tbody tr th:only-of-type {\n",
              "        vertical-align: middle;\n",
              "    }\n",
              "\n",
              "    .dataframe tbody tr th {\n",
              "        vertical-align: top;\n",
              "    }\n",
              "\n",
              "    .dataframe thead th {\n",
              "        text-align: right;\n",
              "    }\n",
              "</style>\n",
              "<table border=\"1\" class=\"dataframe\">\n",
              "  <thead>\n",
              "    <tr style=\"text-align: right;\">\n",
              "      <th></th>\n",
              "      <th>id</th>\n",
              "      <th>keywords</th>\n",
              "    </tr>\n",
              "  </thead>\n",
              "  <tbody>\n",
              "    <tr>\n",
              "      <th>0</th>\n",
              "      <td>862</td>\n",
              "      <td>[{'id': 931, 'name': 'jealousy'}, {'id': 4290,...</td>\n",
              "    </tr>\n",
              "    <tr>\n",
              "      <th>1</th>\n",
              "      <td>8844</td>\n",
              "      <td>[{'id': 10090, 'name': 'board game'}, {'id': 1...</td>\n",
              "    </tr>\n",
              "    <tr>\n",
              "      <th>2</th>\n",
              "      <td>15602</td>\n",
              "      <td>[{'id': 1495, 'name': 'fishing'}, {'id': 12392...</td>\n",
              "    </tr>\n",
              "  </tbody>\n",
              "</table>\n",
              "</div>"
            ],
            "text/plain": [
              "      id                                           keywords\n",
              "0    862  [{'id': 931, 'name': 'jealousy'}, {'id': 4290,...\n",
              "1   8844  [{'id': 10090, 'name': 'board game'}, {'id': 1...\n",
              "2  15602  [{'id': 1495, 'name': 'fishing'}, {'id': 12392..."
            ]
          },
          "metadata": {
            "tags": []
          },
          "execution_count": 107
        }
      ]
    },
    {
      "cell_type": "markdown",
      "metadata": {
        "id": "DA3llI7h1ED3"
      },
      "source": [
        "so the two files are stringified jason file.I have to extract metadata from the given format."
      ]
    },
    {
      "cell_type": "markdown",
      "metadata": {
        "id": "LmSTv14J1SN3"
      },
      "source": [
        "And also the shape of credits dataset and the shape of keywords dataset is different. I have to have the common dataset belongs to the all three inter-related dataset."
      ]
    },
    {
      "cell_type": "code",
      "metadata": {
        "id": "UM10fJqX0-SV"
      },
      "source": [
        "keywords['id'] = keywords['id'].astype('int')\n",
        "credits['id'] = credits['id'].astype('int')\n",
        "md['id'] = md['id'].astype('int')"
      ],
      "execution_count": 108,
      "outputs": []
    },
    {
      "cell_type": "code",
      "metadata": {
        "id": "_oQ3lb-_1wio"
      },
      "source": [
        "md = md.merge(credits, on='id')\n",
        "md = md.merge(keywords, on='id')"
      ],
      "execution_count": 109,
      "outputs": []
    },
    {
      "cell_type": "code",
      "metadata": {
        "colab": {
          "base_uri": "https://localhost:8080/"
        },
        "id": "Cl6WDb-w10c2",
        "outputId": "13b559ac-04d2-4488-fda6-f46ddc81344d"
      },
      "source": [
        "smd2 = md[md['id'].isin(links_small)]\n",
        "smd2.shape"
      ],
      "execution_count": 110,
      "outputs": [
        {
          "output_type": "execute_result",
          "data": {
            "text/plain": [
              "(11367, 33)"
            ]
          },
          "metadata": {
            "tags": []
          },
          "execution_count": 110
        }
      ]
    },
    {
      "cell_type": "markdown",
      "metadata": {
        "id": "BdKYbzAB14s4"
      },
      "source": [
        "So, I extract the small dataset having all the metadata informations."
      ]
    },
    {
      "cell_type": "code",
      "metadata": {
        "colab": {
          "base_uri": "https://localhost:8080/"
        },
        "id": "JUez9IFk13wV",
        "outputId": "39cd0f93-eb11-412d-f319-2712b8bac107"
      },
      "source": [
        "smd2.columns"
      ],
      "execution_count": 111,
      "outputs": [
        {
          "output_type": "execute_result",
          "data": {
            "text/plain": [
              "Index(['adult', 'belongs_to_collection', 'budget', 'genres', 'homepage', 'id',\n",
              "       'imdb_id', 'original_language', 'original_title', 'overview',\n",
              "       'popularity', 'poster_path', 'production_companies',\n",
              "       'production_countries', 'release_date', 'revenue', 'runtime',\n",
              "       'spoken_languages', 'status', 'tagline', 'title', 'video',\n",
              "       'vote_average', 'vote_count', 'cast_x', 'crew_x', 'keywords_x',\n",
              "       'cast_y', 'crew_y', 'keywords_y', 'cast', 'crew', 'keywords'],\n",
              "      dtype='object')"
            ]
          },
          "metadata": {
            "tags": []
          },
          "execution_count": 111
        }
      ]
    },
    {
      "cell_type": "code",
      "metadata": {
        "id": "HrixJMBZ2BqA"
      },
      "source": [
        "import ast\n",
        "\n",
        "smd2['cast'] = smd2['cast'].apply(ast.literal_eval)#string to list\n",
        "smd2['crew'] = smd2['crew'].apply(ast.literal_eval)\n",
        "smd2['keywords'] = smd2['keywords'].apply(ast.literal_eval)\n",
        "smd2['cast_size'] = smd2['cast'].apply(lambda x: len(x))\n",
        "smd2['crew_size'] = smd2['crew'].apply(lambda x: len(x))"
      ],
      "execution_count": 112,
      "outputs": []
    },
    {
      "cell_type": "code",
      "metadata": {
        "colab": {
          "base_uri": "https://localhost:8080/",
          "height": 432
        },
        "id": "-kwlCm6N2dLp",
        "outputId": "08f99584-0e7a-425a-e965-1305e6530891"
      },
      "source": [
        "smd2.head(3)"
      ],
      "execution_count": 113,
      "outputs": [
        {
          "output_type": "execute_result",
          "data": {
            "text/html": [
              "<div>\n",
              "<style scoped>\n",
              "    .dataframe tbody tr th:only-of-type {\n",
              "        vertical-align: middle;\n",
              "    }\n",
              "\n",
              "    .dataframe tbody tr th {\n",
              "        vertical-align: top;\n",
              "    }\n",
              "\n",
              "    .dataframe thead th {\n",
              "        text-align: right;\n",
              "    }\n",
              "</style>\n",
              "<table border=\"1\" class=\"dataframe\">\n",
              "  <thead>\n",
              "    <tr style=\"text-align: right;\">\n",
              "      <th></th>\n",
              "      <th>adult</th>\n",
              "      <th>belongs_to_collection</th>\n",
              "      <th>budget</th>\n",
              "      <th>genres</th>\n",
              "      <th>homepage</th>\n",
              "      <th>id</th>\n",
              "      <th>imdb_id</th>\n",
              "      <th>original_language</th>\n",
              "      <th>original_title</th>\n",
              "      <th>overview</th>\n",
              "      <th>popularity</th>\n",
              "      <th>poster_path</th>\n",
              "      <th>production_companies</th>\n",
              "      <th>production_countries</th>\n",
              "      <th>release_date</th>\n",
              "      <th>revenue</th>\n",
              "      <th>runtime</th>\n",
              "      <th>spoken_languages</th>\n",
              "      <th>status</th>\n",
              "      <th>tagline</th>\n",
              "      <th>title</th>\n",
              "      <th>video</th>\n",
              "      <th>vote_average</th>\n",
              "      <th>vote_count</th>\n",
              "      <th>cast_x</th>\n",
              "      <th>crew_x</th>\n",
              "      <th>keywords_x</th>\n",
              "      <th>cast_y</th>\n",
              "      <th>crew_y</th>\n",
              "      <th>keywords_y</th>\n",
              "      <th>cast</th>\n",
              "      <th>crew</th>\n",
              "      <th>keywords</th>\n",
              "      <th>cast_size</th>\n",
              "      <th>crew_size</th>\n",
              "    </tr>\n",
              "  </thead>\n",
              "  <tbody>\n",
              "    <tr>\n",
              "      <th>0</th>\n",
              "      <td>False</td>\n",
              "      <td>{'id': 10194, 'name': 'Toy Story Collection', ...</td>\n",
              "      <td>30000000</td>\n",
              "      <td>[{'id': 16, 'name': 'Animation'}, {'id': 35, '...</td>\n",
              "      <td>http://toystory.disney.com/toy-story</td>\n",
              "      <td>862</td>\n",
              "      <td>tt0114709</td>\n",
              "      <td>en</td>\n",
              "      <td>Toy Story</td>\n",
              "      <td>Led by Woody, Andy's toys live happily in his ...</td>\n",
              "      <td>21.9469</td>\n",
              "      <td>/rhIRbceoE9lR4veEXuwCC2wARtG.jpg</td>\n",
              "      <td>[{'name': 'Pixar Animation Studios', 'id': 3}]</td>\n",
              "      <td>[{'iso_3166_1': 'US', 'name': 'United States o...</td>\n",
              "      <td>1995-10-30</td>\n",
              "      <td>373554033.0</td>\n",
              "      <td>81.0</td>\n",
              "      <td>[{'iso_639_1': 'en', 'name': 'English'}]</td>\n",
              "      <td>Released</td>\n",
              "      <td>NaN</td>\n",
              "      <td>Toy Story</td>\n",
              "      <td>False</td>\n",
              "      <td>7.7</td>\n",
              "      <td>5415.0</td>\n",
              "      <td>[{'cast_id': 14, 'character': 'Woody (voice)',...</td>\n",
              "      <td>[{'credit_id': '52fe4284c3a36847f8024f49', 'de...</td>\n",
              "      <td>[{'id': 931, 'name': 'jealousy'}, {'id': 4290,...</td>\n",
              "      <td>[{'cast_id': 14, 'character': 'Woody (voice)',...</td>\n",
              "      <td>[{'credit_id': '52fe4284c3a36847f8024f49', 'de...</td>\n",
              "      <td>[{'id': 931, 'name': 'jealousy'}, {'id': 4290,...</td>\n",
              "      <td>[{'cast_id': 14, 'character': 'Woody (voice)',...</td>\n",
              "      <td>[{'credit_id': '52fe4284c3a36847f8024f49', 'de...</td>\n",
              "      <td>[{'id': 931, 'name': 'jealousy'}, {'id': 4290,...</td>\n",
              "      <td>13</td>\n",
              "      <td>106</td>\n",
              "    </tr>\n",
              "    <tr>\n",
              "      <th>1</th>\n",
              "      <td>False</td>\n",
              "      <td>NaN</td>\n",
              "      <td>65000000</td>\n",
              "      <td>[{'id': 12, 'name': 'Adventure'}, {'id': 14, '...</td>\n",
              "      <td>NaN</td>\n",
              "      <td>8844</td>\n",
              "      <td>tt0113497</td>\n",
              "      <td>en</td>\n",
              "      <td>Jumanji</td>\n",
              "      <td>When siblings Judy and Peter discover an encha...</td>\n",
              "      <td>17.0155</td>\n",
              "      <td>/vzmL6fP7aPKNKPRTFnZmiUfciyV.jpg</td>\n",
              "      <td>[{'name': 'TriStar Pictures', 'id': 559}, {'na...</td>\n",
              "      <td>[{'iso_3166_1': 'US', 'name': 'United States o...</td>\n",
              "      <td>1995-12-15</td>\n",
              "      <td>262797249.0</td>\n",
              "      <td>104.0</td>\n",
              "      <td>[{'iso_639_1': 'en', 'name': 'English'}, {'iso...</td>\n",
              "      <td>Released</td>\n",
              "      <td>Roll the dice and unleash the excitement!</td>\n",
              "      <td>Jumanji</td>\n",
              "      <td>False</td>\n",
              "      <td>6.9</td>\n",
              "      <td>2413.0</td>\n",
              "      <td>[{'cast_id': 1, 'character': 'Alan Parrish', '...</td>\n",
              "      <td>[{'credit_id': '52fe44bfc3a36847f80a7cd1', 'de...</td>\n",
              "      <td>[{'id': 10090, 'name': 'board game'}, {'id': 1...</td>\n",
              "      <td>[{'cast_id': 1, 'character': 'Alan Parrish', '...</td>\n",
              "      <td>[{'credit_id': '52fe44bfc3a36847f80a7cd1', 'de...</td>\n",
              "      <td>[{'id': 10090, 'name': 'board game'}, {'id': 1...</td>\n",
              "      <td>[{'cast_id': 1, 'character': 'Alan Parrish', '...</td>\n",
              "      <td>[{'credit_id': '52fe44bfc3a36847f80a7cd1', 'de...</td>\n",
              "      <td>[{'id': 10090, 'name': 'board game'}, {'id': 1...</td>\n",
              "      <td>26</td>\n",
              "      <td>16</td>\n",
              "    </tr>\n",
              "    <tr>\n",
              "      <th>2</th>\n",
              "      <td>False</td>\n",
              "      <td>{'id': 119050, 'name': 'Grumpy Old Men Collect...</td>\n",
              "      <td>0</td>\n",
              "      <td>[{'id': 10749, 'name': 'Romance'}, {'id': 35, ...</td>\n",
              "      <td>NaN</td>\n",
              "      <td>15602</td>\n",
              "      <td>tt0113228</td>\n",
              "      <td>en</td>\n",
              "      <td>Grumpier Old Men</td>\n",
              "      <td>A family wedding reignites the ancient feud be...</td>\n",
              "      <td>11.7129</td>\n",
              "      <td>/6ksm1sjKMFLbO7UY2i6G1ju9SML.jpg</td>\n",
              "      <td>[{'name': 'Warner Bros.', 'id': 6194}, {'name'...</td>\n",
              "      <td>[{'iso_3166_1': 'US', 'name': 'United States o...</td>\n",
              "      <td>1995-12-22</td>\n",
              "      <td>0.0</td>\n",
              "      <td>101.0</td>\n",
              "      <td>[{'iso_639_1': 'en', 'name': 'English'}]</td>\n",
              "      <td>Released</td>\n",
              "      <td>Still Yelling. Still Fighting. Still Ready for...</td>\n",
              "      <td>Grumpier Old Men</td>\n",
              "      <td>False</td>\n",
              "      <td>6.5</td>\n",
              "      <td>92.0</td>\n",
              "      <td>[{'cast_id': 2, 'character': 'Max Goldman', 'c...</td>\n",
              "      <td>[{'credit_id': '52fe466a9251416c75077a89', 'de...</td>\n",
              "      <td>[{'id': 1495, 'name': 'fishing'}, {'id': 12392...</td>\n",
              "      <td>[{'cast_id': 2, 'character': 'Max Goldman', 'c...</td>\n",
              "      <td>[{'credit_id': '52fe466a9251416c75077a89', 'de...</td>\n",
              "      <td>[{'id': 1495, 'name': 'fishing'}, {'id': 12392...</td>\n",
              "      <td>[{'cast_id': 2, 'character': 'Max Goldman', 'c...</td>\n",
              "      <td>[{'credit_id': '52fe466a9251416c75077a89', 'de...</td>\n",
              "      <td>[{'id': 1495, 'name': 'fishing'}, {'id': 12392...</td>\n",
              "      <td>7</td>\n",
              "      <td>4</td>\n",
              "    </tr>\n",
              "  </tbody>\n",
              "</table>\n",
              "</div>"
            ],
            "text/plain": [
              "   adult  ... crew_size\n",
              "0  False  ...       106\n",
              "1  False  ...        16\n",
              "2  False  ...         4\n",
              "\n",
              "[3 rows x 35 columns]"
            ]
          },
          "metadata": {
            "tags": []
          },
          "execution_count": 113
        }
      ]
    },
    {
      "cell_type": "markdown",
      "metadata": {
        "id": "hQWzxd7k2kYt"
      },
      "source": [
        "In the dataset i find that 'cast','crew' and 'keywords' can be considered as metadata."
      ]
    },
    {
      "cell_type": "code",
      "metadata": {
        "colab": {
          "base_uri": "https://localhost:8080/"
        },
        "id": "qrKzRj0B3HVh",
        "outputId": "6d0be243-bb7d-4bfb-a549-24246f1b1f97"
      },
      "source": [
        "smd2['crew'][0]"
      ],
      "execution_count": 114,
      "outputs": [
        {
          "output_type": "execute_result",
          "data": {
            "text/plain": [
              "[{'credit_id': '52fe4284c3a36847f8024f49',\n",
              "  'department': 'Directing',\n",
              "  'gender': 2,\n",
              "  'id': 7879,\n",
              "  'job': 'Director',\n",
              "  'name': 'John Lasseter',\n",
              "  'profile_path': '/7EdqiNbr4FRjIhKHyPPdFfEEEFG.jpg'},\n",
              " {'credit_id': '52fe4284c3a36847f8024f4f',\n",
              "  'department': 'Writing',\n",
              "  'gender': 2,\n",
              "  'id': 12891,\n",
              "  'job': 'Screenplay',\n",
              "  'name': 'Joss Whedon',\n",
              "  'profile_path': '/dTiVsuaTVTeGmvkhcyJvKp2A5kr.jpg'},\n",
              " {'credit_id': '52fe4284c3a36847f8024f55',\n",
              "  'department': 'Writing',\n",
              "  'gender': 2,\n",
              "  'id': 7,\n",
              "  'job': 'Screenplay',\n",
              "  'name': 'Andrew Stanton',\n",
              "  'profile_path': '/pvQWsu0qc8JFQhMVJkTHuexUAa1.jpg'},\n",
              " {'credit_id': '52fe4284c3a36847f8024f5b',\n",
              "  'department': 'Writing',\n",
              "  'gender': 2,\n",
              "  'id': 12892,\n",
              "  'job': 'Screenplay',\n",
              "  'name': 'Joel Cohen',\n",
              "  'profile_path': '/dAubAiZcvKFbboWlj7oXOkZnTSu.jpg'},\n",
              " {'credit_id': '52fe4284c3a36847f8024f61',\n",
              "  'department': 'Writing',\n",
              "  'gender': 0,\n",
              "  'id': 12893,\n",
              "  'job': 'Screenplay',\n",
              "  'name': 'Alec Sokolow',\n",
              "  'profile_path': '/v79vlRYi94BZUQnkkyznbGUZLjT.jpg'},\n",
              " {'credit_id': '52fe4284c3a36847f8024f67',\n",
              "  'department': 'Production',\n",
              "  'gender': 1,\n",
              "  'id': 12894,\n",
              "  'job': 'Producer',\n",
              "  'name': 'Bonnie Arnold',\n",
              "  'profile_path': None},\n",
              " {'credit_id': '52fe4284c3a36847f8024f6d',\n",
              "  'department': 'Production',\n",
              "  'gender': 0,\n",
              "  'id': 12895,\n",
              "  'job': 'Executive Producer',\n",
              "  'name': 'Ed Catmull',\n",
              "  'profile_path': None},\n",
              " {'credit_id': '52fe4284c3a36847f8024f73',\n",
              "  'department': 'Production',\n",
              "  'gender': 2,\n",
              "  'id': 12896,\n",
              "  'job': 'Producer',\n",
              "  'name': 'Ralph Guggenheim',\n",
              "  'profile_path': None},\n",
              " {'credit_id': '52fe4284c3a36847f8024f79',\n",
              "  'department': 'Production',\n",
              "  'gender': 2,\n",
              "  'id': 12897,\n",
              "  'job': 'Executive Producer',\n",
              "  'name': 'Steve Jobs',\n",
              "  'profile_path': '/mOMP3SwD5qWQSR0ldCIByd3guTV.jpg'},\n",
              " {'credit_id': '52fe4284c3a36847f8024f8b',\n",
              "  'department': 'Editing',\n",
              "  'gender': 2,\n",
              "  'id': 8,\n",
              "  'job': 'Editor',\n",
              "  'name': 'Lee Unkrich',\n",
              "  'profile_path': '/bdTCCXjgOV3YyaNmLGYGOxFQMOc.jpg'},\n",
              " {'credit_id': '52fe4284c3a36847f8024f91',\n",
              "  'department': 'Art',\n",
              "  'gender': 2,\n",
              "  'id': 7883,\n",
              "  'job': 'Art Direction',\n",
              "  'name': 'Ralph Eggleston',\n",
              "  'profile_path': '/uUfcGKDsKO1aROMpXRs67Hn6RvR.jpg'},\n",
              " {'credit_id': '598331bf925141421201044b',\n",
              "  'department': 'Editing',\n",
              "  'gender': 2,\n",
              "  'id': 1168870,\n",
              "  'job': 'Editor',\n",
              "  'name': 'Robert Gordon',\n",
              "  'profile_path': None},\n",
              " {'credit_id': '5892168cc3a36809660095f9',\n",
              "  'department': 'Sound',\n",
              "  'gender': 0,\n",
              "  'id': 1552883,\n",
              "  'job': 'Foley Editor',\n",
              "  'name': 'Mary Helen Leasman',\n",
              "  'profile_path': None},\n",
              " {'credit_id': '5531824d9251415289000945',\n",
              "  'department': 'Visual Effects',\n",
              "  'gender': 0,\n",
              "  'id': 1453514,\n",
              "  'job': 'Animation',\n",
              "  'name': 'Kim Blanchette',\n",
              "  'profile_path': None},\n",
              " {'credit_id': '589215969251412dcb009bf6',\n",
              "  'department': 'Sound',\n",
              "  'gender': 0,\n",
              "  'id': 1414182,\n",
              "  'job': 'ADR Editor',\n",
              "  'name': 'Marilyn McCoppen',\n",
              "  'profile_path': None},\n",
              " {'credit_id': '589217099251412dc500a018',\n",
              "  'department': 'Sound',\n",
              "  'gender': 2,\n",
              "  'id': 7885,\n",
              "  'job': 'Orchestrator',\n",
              "  'name': 'Randy Newman',\n",
              "  'profile_path': '/w0JzfoiM25nrnxYOzosPHRq6mlE.jpg'},\n",
              " {'credit_id': '5693e6b29251417b0e0000e3',\n",
              "  'department': 'Editing',\n",
              "  'gender': 0,\n",
              "  'id': 1429549,\n",
              "  'job': 'Color Timer',\n",
              "  'name': 'Dale E. Grahn',\n",
              "  'profile_path': None},\n",
              " {'credit_id': '572e2522c3a36869e6001a9c',\n",
              "  'department': 'Visual Effects',\n",
              "  'gender': 0,\n",
              "  'id': 7949,\n",
              "  'job': 'CG Painter',\n",
              "  'name': 'Robin Cooper',\n",
              "  'profile_path': None},\n",
              " {'credit_id': '574f12309251415ca1000012',\n",
              "  'department': 'Writing',\n",
              "  'gender': 2,\n",
              "  'id': 7879,\n",
              "  'job': 'Original Story',\n",
              "  'name': 'John Lasseter',\n",
              "  'profile_path': '/7EdqiNbr4FRjIhKHyPPdFfEEEFG.jpg'},\n",
              " {'credit_id': '574f1240c3a3682e7300001c',\n",
              "  'department': 'Writing',\n",
              "  'gender': 2,\n",
              "  'id': 12890,\n",
              "  'job': 'Original Story',\n",
              "  'name': 'Pete Docter',\n",
              "  'profile_path': '/r6ngPgnReA3RHmKjmSoVsc6Awjp.jpg'},\n",
              " {'credit_id': '574f12519251415c92000015',\n",
              "  'department': 'Writing',\n",
              "  'gender': 0,\n",
              "  'id': 7911,\n",
              "  'job': 'Original Story',\n",
              "  'name': 'Joe Ranft',\n",
              "  'profile_path': '/f1BoWC2JbCcfP1e5hKfGsxkHzVU.jpg'},\n",
              " {'credit_id': '574f12cec3a3682e82000022',\n",
              "  'department': 'Crew',\n",
              "  'gender': 0,\n",
              "  'id': 1629419,\n",
              "  'job': 'Post Production Supervisor',\n",
              "  'name': 'Patsy Bouge',\n",
              "  'profile_path': None},\n",
              " {'credit_id': '574f14f19251415ca1000082',\n",
              "  'department': 'Art',\n",
              "  'gender': 0,\n",
              "  'id': 7961,\n",
              "  'job': 'Sculptor',\n",
              "  'name': 'Norm DeCarlo',\n",
              "  'profile_path': None},\n",
              " {'credit_id': '5751ae4bc3a3683772002b7f',\n",
              "  'department': 'Visual Effects',\n",
              "  'gender': 2,\n",
              "  'id': 12905,\n",
              "  'job': 'Animation Director',\n",
              "  'name': 'Ash Brannon',\n",
              "  'profile_path': '/6ueWgPEEBHvS3De2BHYQnYjRTig.jpg'},\n",
              " {'credit_id': '5891edbe9251412dc5007cd6',\n",
              "  'department': 'Sound',\n",
              "  'gender': 2,\n",
              "  'id': 7885,\n",
              "  'job': 'Music',\n",
              "  'name': 'Randy Newman',\n",
              "  'profile_path': '/w0JzfoiM25nrnxYOzosPHRq6mlE.jpg'},\n",
              " {'credit_id': '589213d39251412dc8009832',\n",
              "  'department': 'Directing',\n",
              "  'gender': 0,\n",
              "  'id': 1748707,\n",
              "  'job': 'Layout',\n",
              "  'name': 'Roman Figun',\n",
              "  'profile_path': None},\n",
              " {'credit_id': '5892173dc3a3680968009351',\n",
              "  'department': 'Sound',\n",
              "  'gender': 2,\n",
              "  'id': 4949,\n",
              "  'job': 'Orchestrator',\n",
              "  'name': 'Don Davis',\n",
              "  'profile_path': None},\n",
              " {'credit_id': '589217cec3a3686b0a0052ba',\n",
              "  'department': 'Sound',\n",
              "  'gender': 0,\n",
              "  'id': 1372885,\n",
              "  'job': 'Music Editor',\n",
              "  'name': 'James Flamberg',\n",
              "  'profile_path': None},\n",
              " {'credit_id': '58921831c3a3686348004a64',\n",
              "  'department': 'Editing',\n",
              "  'gender': 0,\n",
              "  'id': 1739962,\n",
              "  'job': 'Negative Cutter',\n",
              "  'name': 'Mary Beth Smith',\n",
              "  'profile_path': None},\n",
              " {'credit_id': '58921838c3a36809700096c0',\n",
              "  'department': 'Editing',\n",
              "  'gender': 0,\n",
              "  'id': 1748513,\n",
              "  'job': 'Negative Cutter',\n",
              "  'name': 'Rick Mackay',\n",
              "  'profile_path': None},\n",
              " {'credit_id': '589218429251412dd1009d1b',\n",
              "  'department': 'Art',\n",
              "  'gender': 0,\n",
              "  'id': 1458006,\n",
              "  'job': 'Title Designer',\n",
              "  'name': 'Susan Bradley',\n",
              "  'profile_path': None},\n",
              " {'credit_id': '5891ed99c3a3680966007670',\n",
              "  'department': 'Crew',\n",
              "  'gender': 0,\n",
              "  'id': 1748557,\n",
              "  'job': 'Supervising Technical Director',\n",
              "  'name': 'William Reeves',\n",
              "  'profile_path': None},\n",
              " {'credit_id': '5891edcec3a3686b0a002eb2',\n",
              "  'department': 'Sound',\n",
              "  'gender': 2,\n",
              "  'id': 7885,\n",
              "  'job': 'Songs',\n",
              "  'name': 'Randy Newman',\n",
              "  'profile_path': '/w0JzfoiM25nrnxYOzosPHRq6mlE.jpg'},\n",
              " {'credit_id': '5891edf9c3a36809700075e6',\n",
              "  'department': 'Writing',\n",
              "  'gender': 2,\n",
              "  'id': 7,\n",
              "  'job': 'Original Story',\n",
              "  'name': 'Andrew Stanton',\n",
              "  'profile_path': '/pvQWsu0qc8JFQhMVJkTHuexUAa1.jpg'},\n",
              " {'credit_id': '58920f0b9251412dd7009104',\n",
              "  'department': 'Crew',\n",
              "  'gender': 2,\n",
              "  'id': 12890,\n",
              "  'job': 'Supervising Animator',\n",
              "  'name': 'Pete Docter',\n",
              "  'profile_path': '/r6ngPgnReA3RHmKjmSoVsc6Awjp.jpg'},\n",
              " {'credit_id': '58920f1fc3a3680977009021',\n",
              "  'department': 'Sound',\n",
              "  'gender': 2,\n",
              "  'id': 2216,\n",
              "  'job': 'Sound Designer',\n",
              "  'name': 'Gary Rydstrom',\n",
              "  'profile_path': '/jZpr1nVfO7lldWI0YtmP1FGw7Rj.jpg'},\n",
              " {'credit_id': '58920f389251412dd700912d',\n",
              "  'department': 'Production',\n",
              "  'gender': 0,\n",
              "  'id': 12909,\n",
              "  'job': 'Production Supervisor',\n",
              "  'name': 'Karen Robert Jackson',\n",
              "  'profile_path': None},\n",
              " {'credit_id': '58920fbd9251412dcb00969c',\n",
              "  'department': 'Crew',\n",
              "  'gender': 0,\n",
              "  'id': 953331,\n",
              "  'job': 'Executive Music Producer',\n",
              "  'name': 'Chris Montan',\n",
              "  'profile_path': None},\n",
              " {'credit_id': '589210069251412dd7009219',\n",
              "  'department': 'Visual Effects',\n",
              "  'gender': 0,\n",
              "  'id': 7893,\n",
              "  'job': 'Animation Director',\n",
              "  'name': 'Rich Quade',\n",
              "  'profile_path': None},\n",
              " {'credit_id': '589210329251412dcd00943b',\n",
              "  'department': 'Visual Effects',\n",
              "  'gender': 0,\n",
              "  'id': 8025,\n",
              "  'job': 'Animation',\n",
              "  'name': 'Michael Berenstein',\n",
              "  'profile_path': None},\n",
              " {'credit_id': '5892103bc3a368096a009180',\n",
              "  'department': 'Visual Effects',\n",
              "  'gender': 0,\n",
              "  'id': 78009,\n",
              "  'job': 'Animation',\n",
              "  'name': 'Colin Brady',\n",
              "  'profile_path': None},\n",
              " {'credit_id': '5892105dc3a3680968008db2',\n",
              "  'department': 'Visual Effects',\n",
              "  'gender': 0,\n",
              "  'id': 1748682,\n",
              "  'job': 'Animation',\n",
              "  'name': 'Davey Crockett Feiten',\n",
              "  'profile_path': None},\n",
              " {'credit_id': '589210669251412dcd009466',\n",
              "  'department': 'Visual Effects',\n",
              "  'gender': 0,\n",
              "  'id': 1454030,\n",
              "  'job': 'Animation',\n",
              "  'name': 'Angie Glocka',\n",
              "  'profile_path': None},\n",
              " {'credit_id': '5892107c9251412dd1009613',\n",
              "  'department': 'Visual Effects',\n",
              "  'gender': 0,\n",
              "  'id': 1748683,\n",
              "  'job': 'Animation',\n",
              "  'name': 'Rex Grignon',\n",
              "  'profile_path': None},\n",
              " {'credit_id': '5892108ac3a3680973008d3f',\n",
              "  'department': 'Visual Effects',\n",
              "  'gender': 0,\n",
              "  'id': 1748684,\n",
              "  'job': 'Animation',\n",
              "  'name': 'Tom K. Gurney',\n",
              "  'profile_path': None},\n",
              " {'credit_id': '58921093c3a3686348004477',\n",
              "  'department': 'Visual Effects',\n",
              "  'gender': 2,\n",
              "  'id': 8029,\n",
              "  'job': 'Animation',\n",
              "  'name': 'Jimmy Hayward',\n",
              "  'profile_path': '/lTDRpudEY7BDwTefXbXzMlmb0ui.jpg'},\n",
              " {'credit_id': '5892109b9251412dcd0094b0',\n",
              "  'department': 'Visual Effects',\n",
              "  'gender': 0,\n",
              "  'id': 1426773,\n",
              "  'job': 'Animation',\n",
              "  'name': 'Hal T. Hickel',\n",
              "  'profile_path': None},\n",
              " {'credit_id': '589210a29251412dc5009a29',\n",
              "  'department': 'Visual Effects',\n",
              "  'gender': 0,\n",
              "  'id': 8035,\n",
              "  'job': 'Animation',\n",
              "  'name': 'Karen Kiser',\n",
              "  'profile_path': None},\n",
              " {'credit_id': '589210ccc3a3680977009191',\n",
              "  'department': 'Visual Effects',\n",
              "  'gender': 0,\n",
              "  'id': 1748688,\n",
              "  'job': 'Animation',\n",
              "  'name': 'Anthony B. LaMolinara',\n",
              "  'profile_path': None},\n",
              " {'credit_id': '589210d7c3a3686b0a004c1f',\n",
              "  'department': 'Visual Effects',\n",
              "  'gender': 0,\n",
              "  'id': 587314,\n",
              "  'job': 'Animation',\n",
              "  'name': 'Guionne Leroy',\n",
              "  'profile_path': None},\n",
              " {'credit_id': '589210e1c3a36809770091a7',\n",
              "  'department': 'Visual Effects',\n",
              "  'gender': 2,\n",
              "  'id': 7918,\n",
              "  'job': 'Animation',\n",
              "  'name': 'Bud Luckey',\n",
              "  'profile_path': '/pcCh7G19FKMNijmPQg1PMH1btic.jpg'},\n",
              " {'credit_id': '589210ee9251412dc200978a',\n",
              "  'department': 'Visual Effects',\n",
              "  'gender': 0,\n",
              "  'id': 1748689,\n",
              "  'job': 'Animation',\n",
              "  'name': 'Les Major',\n",
              "  'profile_path': None},\n",
              " {'credit_id': '589210fa9251412dc8009595',\n",
              "  'department': 'Visual Effects',\n",
              "  'gender': 2,\n",
              "  'id': 7892,\n",
              "  'job': 'Animation',\n",
              "  'name': 'Glenn McQueen',\n",
              "  'profile_path': None},\n",
              " {'credit_id': '589211029251412dc8009598',\n",
              "  'department': 'Visual Effects',\n",
              "  'gender': 0,\n",
              "  'id': 555795,\n",
              "  'job': 'Animation',\n",
              "  'name': 'Mark Oftedal',\n",
              "  'profile_path': None},\n",
              " {'credit_id': '5892110b9251412dc800959d',\n",
              "  'department': 'Visual Effects',\n",
              "  'gender': 2,\n",
              "  'id': 7882,\n",
              "  'job': 'Animation',\n",
              "  'name': 'Jeff Pidgeon',\n",
              "  'profile_path': '/yLddkg5HcgbJg00cS13GVBnP0HY.jpg'},\n",
              " {'credit_id': '58921113c3a36863480044e4',\n",
              "  'department': 'Visual Effects',\n",
              "  'gender': 0,\n",
              "  'id': 8017,\n",
              "  'job': 'Animation',\n",
              "  'name': 'Jeff Pratt',\n",
              "  'profile_path': None},\n",
              " {'credit_id': '5892111c9251412dcb0097e9',\n",
              "  'department': 'Visual Effects',\n",
              "  'gender': 0,\n",
              "  'id': 1184140,\n",
              "  'job': 'Animation',\n",
              "  'name': 'Steve Rabatich',\n",
              "  'profile_path': None},\n",
              " {'credit_id': '58921123c3a36809700090f6',\n",
              "  'department': 'Visual Effects',\n",
              "  'gender': 0,\n",
              "  'id': 8049,\n",
              "  'job': 'Animation',\n",
              "  'name': 'Roger Rose',\n",
              "  'profile_path': None},\n",
              " {'credit_id': '5892112b9251412dcb0097fb',\n",
              "  'department': 'Visual Effects',\n",
              "  'gender': 0,\n",
              "  'id': 1509559,\n",
              "  'job': 'Animation',\n",
              "  'name': 'Steve Segal',\n",
              "  'profile_path': None},\n",
              " {'credit_id': '589211349251412dc80095c3',\n",
              "  'department': 'Visual Effects',\n",
              "  'gender': 0,\n",
              "  'id': 1748691,\n",
              "  'job': 'Animation',\n",
              "  'name': 'Doug Sheppeck',\n",
              "  'profile_path': None},\n",
              " {'credit_id': '5892113cc3a3680970009106',\n",
              "  'department': 'Visual Effects',\n",
              "  'gender': 0,\n",
              "  'id': 8050,\n",
              "  'job': 'Animation',\n",
              "  'name': 'Alan Sperling',\n",
              "  'profile_path': None},\n",
              " {'credit_id': '58921148c3a3686b0a004c99',\n",
              "  'department': 'Visual Effects',\n",
              "  'gender': 0,\n",
              "  'id': 8010,\n",
              "  'job': 'Animation',\n",
              "  'name': 'Doug Sweetland',\n",
              "  'profile_path': None},\n",
              " {'credit_id': '58921150c3a3680966009125',\n",
              "  'department': 'Visual Effects',\n",
              "  'gender': 0,\n",
              "  'id': 8044,\n",
              "  'job': 'Animation',\n",
              "  'name': 'David Tart',\n",
              "  'profile_path': None},\n",
              " {'credit_id': '589211629251412dc5009b00',\n",
              "  'department': 'Visual Effects',\n",
              "  'gender': 0,\n",
              "  'id': 1454034,\n",
              "  'job': 'Animation',\n",
              "  'name': 'Ken Willard',\n",
              "  'profile_path': None},\n",
              " {'credit_id': '589211c1c3a3686b0a004d28',\n",
              "  'department': 'Visual Effects',\n",
              "  'gender': 0,\n",
              "  'id': 7887,\n",
              "  'job': 'Visual Effects Supervisor',\n",
              "  'name': 'Thomas Porter',\n",
              "  'profile_path': None},\n",
              " {'credit_id': '589211d4c3a3680968008ed9',\n",
              "  'department': 'Visual Effects',\n",
              "  'gender': 0,\n",
              "  'id': 1406878,\n",
              "  'job': 'Visual Effects',\n",
              "  'name': 'Mark Thomas Henne',\n",
              "  'profile_path': None},\n",
              " {'credit_id': '589211f59251412dd4008e65',\n",
              "  'department': 'Visual Effects',\n",
              "  'gender': 0,\n",
              "  'id': 1748698,\n",
              "  'job': 'Visual Effects',\n",
              "  'name': 'Oren Jacob',\n",
              "  'profile_path': None},\n",
              " {'credit_id': '58921242c3a368096a00939b',\n",
              "  'department': 'Visual Effects',\n",
              "  'gender': 0,\n",
              "  'id': 1748699,\n",
              "  'job': 'Visual Effects',\n",
              "  'name': 'Darwyn Peachey',\n",
              "  'profile_path': None},\n",
              " {'credit_id': '5892124b9251412dc5009bd2',\n",
              "  'department': 'Visual Effects',\n",
              "  'gender': 0,\n",
              "  'id': 1748701,\n",
              "  'job': 'Visual Effects',\n",
              "  'name': 'Mitch Prater',\n",
              "  'profile_path': None},\n",
              " {'credit_id': '58921264c3a3686b0a004dbf',\n",
              "  'department': 'Visual Effects',\n",
              "  'gender': 0,\n",
              "  'id': 1748703,\n",
              "  'job': 'Visual Effects',\n",
              "  'name': 'Brian M. Rosen',\n",
              "  'profile_path': None},\n",
              " {'credit_id': '589212709251412dcd009676',\n",
              "  'department': 'Lighting',\n",
              "  'gender': 1,\n",
              "  'id': 12912,\n",
              "  'job': 'Lighting Supervisor',\n",
              "  'name': 'Sharon Calahan',\n",
              "  'profile_path': None},\n",
              " {'credit_id': '5892127fc3a3686b0a004de5',\n",
              "  'department': 'Lighting',\n",
              "  'gender': 0,\n",
              "  'id': 7899,\n",
              "  'job': 'Lighting Supervisor',\n",
              "  'name': 'Galyn Susman',\n",
              "  'profile_path': None},\n",
              " {'credit_id': '589212cdc3a3680970009268',\n",
              "  'department': 'Visual Effects',\n",
              "  'gender': 0,\n",
              "  'id': 12915,\n",
              "  'job': 'CG Painter',\n",
              "  'name': 'William Cone',\n",
              "  'profile_path': None},\n",
              " {'credit_id': '5892130f9251412dc8009791',\n",
              "  'department': 'Art',\n",
              "  'gender': 0,\n",
              "  'id': 1748705,\n",
              "  'job': 'Sculptor',\n",
              "  'name': 'Shelley Daniels Lekven',\n",
              "  'profile_path': None},\n",
              " {'credit_id': '5892131c9251412dd4008f4c',\n",
              "  'department': 'Visual Effects',\n",
              "  'gender': 2,\n",
              "  'id': 7889,\n",
              "  'job': 'Character Designer',\n",
              "  'name': 'Bob Pauley',\n",
              "  'profile_path': None},\n",
              " {'credit_id': '589213249251412dd100987b',\n",
              "  'department': 'Visual Effects',\n",
              "  'gender': 2,\n",
              "  'id': 7918,\n",
              "  'job': 'Character Designer',\n",
              "  'name': 'Bud Luckey',\n",
              "  'profile_path': '/pcCh7G19FKMNijmPQg1PMH1btic.jpg'},\n",
              " {'credit_id': '5892132b9251412dc80097b1',\n",
              "  'department': 'Visual Effects',\n",
              "  'gender': 2,\n",
              "  'id': 7,\n",
              "  'job': 'Character Designer',\n",
              "  'name': 'Andrew Stanton',\n",
              "  'profile_path': '/pvQWsu0qc8JFQhMVJkTHuexUAa1.jpg'},\n",
              " {'credit_id': '58921332c3a368634800467b',\n",
              "  'department': 'Visual Effects',\n",
              "  'gender': 0,\n",
              "  'id': 12915,\n",
              "  'job': 'Character Designer',\n",
              "  'name': 'William Cone',\n",
              "  'profile_path': None},\n",
              " {'credit_id': '5892135f9251412dd4008f90',\n",
              "  'department': 'Visual Effects',\n",
              "  'gender': 0,\n",
              "  'id': 1748706,\n",
              "  'job': 'Character Designer',\n",
              "  'name': 'Steve Johnson',\n",
              "  'profile_path': None},\n",
              " {'credit_id': '58921384c3a3680973008fd4',\n",
              "  'department': 'Visual Effects',\n",
              "  'gender': 0,\n",
              "  'id': 1176752,\n",
              "  'job': 'Character Designer',\n",
              "  'name': 'Dan Haskett',\n",
              "  'profile_path': None},\n",
              " {'credit_id': '5892138e9251412dc20099fc',\n",
              "  'department': 'Visual Effects',\n",
              "  'gender': 0,\n",
              "  'id': 1088034,\n",
              "  'job': 'Character Designer',\n",
              "  'name': 'Tom Holloway',\n",
              "  'profile_path': '/a0r0T2usTBpgMI5aZbRBDW1fTl8.jpg'},\n",
              " {'credit_id': '58921395c3a368097700942f',\n",
              "  'department': 'Visual Effects',\n",
              "  'gender': 0,\n",
              "  'id': 1447465,\n",
              "  'job': 'Character Designer',\n",
              "  'name': 'Jean Gillmore',\n",
              "  'profile_path': None},\n",
              " {'credit_id': '589213e2c3a3680973009026',\n",
              "  'department': 'Directing',\n",
              "  'gender': 0,\n",
              "  'id': 1748709,\n",
              "  'job': 'Layout',\n",
              "  'name': 'Desirée Mourad',\n",
              "  'profile_path': None},\n",
              " {'credit_id': '589214099251412dc5009d57',\n",
              "  'department': 'Art',\n",
              "  'gender': 0,\n",
              "  'id': 1748710,\n",
              "  'job': 'Set Dresser',\n",
              "  'name': \"Kelly O'Connell\",\n",
              "  'profile_path': None},\n",
              " {'credit_id': '58921411c3a3686b0a004f70',\n",
              "  'department': 'Art',\n",
              "  'gender': 0,\n",
              "  'id': 1443471,\n",
              "  'job': 'Set Dresser',\n",
              "  'name': 'Sonoko Konishi',\n",
              "  'profile_path': None},\n",
              " {'credit_id': '58921434c3a368096a00956e',\n",
              "  'department': 'Art',\n",
              "  'gender': 0,\n",
              "  'id': 1748711,\n",
              "  'job': 'Set Dresser',\n",
              "  'name': 'Ann M. Rockwell',\n",
              "  'profile_path': None},\n",
              " {'credit_id': '5892144ac3a36809680090de',\n",
              "  'department': 'Editing',\n",
              "  'gender': 0,\n",
              "  'id': 1748712,\n",
              "  'job': 'Editorial Manager',\n",
              "  'name': 'Julie M. McDonald',\n",
              "  'profile_path': None},\n",
              " {'credit_id': '58921479c3a368096800910f',\n",
              "  'department': 'Editing',\n",
              "  'gender': 0,\n",
              "  'id': 1589729,\n",
              "  'job': 'Assistant Editor',\n",
              "  'name': 'Robin Lee',\n",
              "  'profile_path': None},\n",
              " {'credit_id': '5892148b9251412dd10099cc',\n",
              "  'department': 'Editing',\n",
              "  'gender': 0,\n",
              "  'id': 1748716,\n",
              "  'job': 'Assistant Editor',\n",
              "  'name': 'Tom Freeman',\n",
              "  'profile_path': None},\n",
              " {'credit_id': '589214959251412dcb009b1f',\n",
              "  'department': 'Editing',\n",
              "  'gender': 0,\n",
              "  'id': 1748717,\n",
              "  'job': 'Assistant Editor',\n",
              "  'name': 'Ada Cochavi',\n",
              "  'profile_path': None},\n",
              " {'credit_id': '5892149ec3a3686348004798',\n",
              "  'department': 'Editing',\n",
              "  'gender': 0,\n",
              "  'id': 1336438,\n",
              "  'job': 'Assistant Editor',\n",
              "  'name': 'Dana Mulligan',\n",
              "  'profile_path': None},\n",
              " {'credit_id': '589214adc3a368096a0095db',\n",
              "  'department': 'Editing',\n",
              "  'gender': 0,\n",
              "  'id': 1748718,\n",
              "  'job': 'Editorial Coordinator',\n",
              "  'name': 'Deirdre Morrison',\n",
              "  'profile_path': None},\n",
              " {'credit_id': '589214c7c3a368097700952b',\n",
              "  'department': 'Production',\n",
              "  'gender': 0,\n",
              "  'id': 1748719,\n",
              "  'job': 'Production Coordinator',\n",
              "  'name': 'Lori Lombardo',\n",
              "  'profile_path': None},\n",
              " {'credit_id': '589214cec3a368096a009603',\n",
              "  'department': 'Production',\n",
              "  'gender': 0,\n",
              "  'id': 1748720,\n",
              "  'job': 'Production Coordinator',\n",
              "  'name': 'Ellen Devine',\n",
              "  'profile_path': None},\n",
              " {'credit_id': '589214e39251412dc8009904',\n",
              "  'department': 'Crew',\n",
              "  'gender': 0,\n",
              "  'id': 1468014,\n",
              "  'job': 'Unit Publicist',\n",
              "  'name': 'Lauren Beth Strogoff',\n",
              "  'profile_path': None},\n",
              " {'credit_id': '58921544c3a3686b0a00507d',\n",
              "  'department': 'Sound',\n",
              "  'gender': 2,\n",
              "  'id': 2216,\n",
              "  'job': 'Sound Re-Recording Mixer',\n",
              "  'name': 'Gary Rydstrom',\n",
              "  'profile_path': '/jZpr1nVfO7lldWI0YtmP1FGw7Rj.jpg'},\n",
              " {'credit_id': '5892154c9251412dd1009a56',\n",
              "  'department': 'Sound',\n",
              "  'gender': 0,\n",
              "  'id': 1425978,\n",
              "  'job': 'Sound Re-Recording Mixer',\n",
              "  'name': 'Gary Summers',\n",
              "  'profile_path': None},\n",
              " {'credit_id': '58921555c3a36809680091bd',\n",
              "  'department': 'Sound',\n",
              "  'gender': 2,\n",
              "  'id': 8276,\n",
              "  'job': 'Supervising Sound Editor',\n",
              "  'name': 'Tim Holland',\n",
              "  'profile_path': None},\n",
              " {'credit_id': '589215c39251412dcb009c12',\n",
              "  'department': 'Sound',\n",
              "  'gender': 0,\n",
              "  'id': 7069,\n",
              "  'job': 'Sound Effects Editor',\n",
              "  'name': 'Pat Jackson',\n",
              "  'profile_path': None},\n",
              " {'credit_id': '58921698c3a368096a009788',\n",
              "  'department': 'Crew',\n",
              "  'gender': 2,\n",
              "  'id': 15894,\n",
              "  'job': 'Sound Design Assistant',\n",
              "  'name': 'Tom Myers',\n",
              "  'profile_path': None},\n",
              " {'credit_id': '589216a89251412dc2009ca4',\n",
              "  'department': 'Sound',\n",
              "  'gender': 0,\n",
              "  'id': 1414177,\n",
              "  'job': 'Assistant Sound Editor',\n",
              "  'name': 'J.R. Grubbs',\n",
              "  'profile_path': None},\n",
              " {'credit_id': '589216c19251412dc2009cb9',\n",
              "  'department': 'Sound',\n",
              "  'gender': 1,\n",
              "  'id': 1748724,\n",
              "  'job': 'Assistant Sound Editor',\n",
              "  'name': 'Susan Sanford',\n",
              "  'profile_path': None},\n",
              " {'credit_id': '589216ccc3a3680973009274',\n",
              "  'department': 'Sound',\n",
              "  'gender': 0,\n",
              "  'id': 1748725,\n",
              "  'job': 'Assistant Sound Editor',\n",
              "  'name': 'Susan Popovic',\n",
              "  'profile_path': None},\n",
              " {'credit_id': '589216d79251412dc8009aa0',\n",
              "  'department': 'Sound',\n",
              "  'gender': 0,\n",
              "  'id': 8067,\n",
              "  'job': 'Assistant Sound Editor',\n",
              "  'name': 'Dan Engstrom',\n",
              "  'profile_path': None},\n",
              " {'credit_id': '589216e49251412dcd009a4f',\n",
              "  'department': 'Production',\n",
              "  'gender': 1,\n",
              "  'id': 7902,\n",
              "  'job': 'Casting Consultant',\n",
              "  'name': 'Ruth Lambert',\n",
              "  'profile_path': None},\n",
              " {'credit_id': '589216f39251412dc2009cf3',\n",
              "  'department': 'Production',\n",
              "  'gender': 0,\n",
              "  'id': 84493,\n",
              "  'job': 'ADR Voice Casting',\n",
              "  'name': 'Mickie McGowan',\n",
              "  'profile_path': '/k7TjJBfINsg8vLQxJwos6XObAD6.jpg'}]"
            ]
          },
          "metadata": {
            "tags": []
          },
          "execution_count": 114
        }
      ]
    },
    {
      "cell_type": "code",
      "metadata": {
        "id": "Y-Zvfj9C2Ek9"
      },
      "source": [
        "#Function Creation for get the director name from crew columns.\n",
        "import numpy as np\n",
        "\n",
        "def get_director(x):\n",
        "    for i in x:\n",
        "        if i['job'] == 'Director':\n",
        "            return i['name']\n",
        "    return np.nan"
      ],
      "execution_count": 115,
      "outputs": []
    },
    {
      "cell_type": "code",
      "metadata": {
        "id": "2jovzvqG3NcN"
      },
      "source": [
        "smd2['director'] = smd2['crew'].apply(get_director)"
      ],
      "execution_count": 116,
      "outputs": []
    },
    {
      "cell_type": "markdown",
      "metadata": {
        "id": "fPRfeMGq3fEK"
      },
      "source": [
        "So i am getting a new column director which can be treated as metadata further."
      ]
    },
    {
      "cell_type": "code",
      "metadata": {
        "colab": {
          "base_uri": "https://localhost:8080/"
        },
        "id": "d_ZBTZk93177",
        "outputId": "0f7295ed-c6b7-49a1-db15-2d632aaa7a2e"
      },
      "source": [
        "smd2['cast'][0]"
      ],
      "execution_count": 117,
      "outputs": [
        {
          "output_type": "execute_result",
          "data": {
            "text/plain": [
              "[{'cast_id': 14,\n",
              "  'character': 'Woody (voice)',\n",
              "  'credit_id': '52fe4284c3a36847f8024f95',\n",
              "  'gender': 2,\n",
              "  'id': 31,\n",
              "  'name': 'Tom Hanks',\n",
              "  'order': 0,\n",
              "  'profile_path': '/pQFoyx7rp09CJTAb932F2g8Nlho.jpg'},\n",
              " {'cast_id': 15,\n",
              "  'character': 'Buzz Lightyear (voice)',\n",
              "  'credit_id': '52fe4284c3a36847f8024f99',\n",
              "  'gender': 2,\n",
              "  'id': 12898,\n",
              "  'name': 'Tim Allen',\n",
              "  'order': 1,\n",
              "  'profile_path': '/uX2xVf6pMmPepxnvFWyBtjexzgY.jpg'},\n",
              " {'cast_id': 16,\n",
              "  'character': 'Mr. Potato Head (voice)',\n",
              "  'credit_id': '52fe4284c3a36847f8024f9d',\n",
              "  'gender': 2,\n",
              "  'id': 7167,\n",
              "  'name': 'Don Rickles',\n",
              "  'order': 2,\n",
              "  'profile_path': '/h5BcaDMPRVLHLDzbQavec4xfSdt.jpg'},\n",
              " {'cast_id': 17,\n",
              "  'character': 'Slinky Dog (voice)',\n",
              "  'credit_id': '52fe4284c3a36847f8024fa1',\n",
              "  'gender': 2,\n",
              "  'id': 12899,\n",
              "  'name': 'Jim Varney',\n",
              "  'order': 3,\n",
              "  'profile_path': '/eIo2jVVXYgjDtaHoF19Ll9vtW7h.jpg'},\n",
              " {'cast_id': 18,\n",
              "  'character': 'Rex (voice)',\n",
              "  'credit_id': '52fe4284c3a36847f8024fa5',\n",
              "  'gender': 2,\n",
              "  'id': 12900,\n",
              "  'name': 'Wallace Shawn',\n",
              "  'order': 4,\n",
              "  'profile_path': '/oGE6JqPP2xH4tNORKNqxbNPYi7u.jpg'},\n",
              " {'cast_id': 19,\n",
              "  'character': 'Hamm (voice)',\n",
              "  'credit_id': '52fe4284c3a36847f8024fa9',\n",
              "  'gender': 2,\n",
              "  'id': 7907,\n",
              "  'name': 'John Ratzenberger',\n",
              "  'order': 5,\n",
              "  'profile_path': '/yGechiKWL6TJDfVE2KPSJYqdMsY.jpg'},\n",
              " {'cast_id': 20,\n",
              "  'character': 'Bo Peep (voice)',\n",
              "  'credit_id': '52fe4284c3a36847f8024fad',\n",
              "  'gender': 1,\n",
              "  'id': 8873,\n",
              "  'name': 'Annie Potts',\n",
              "  'order': 6,\n",
              "  'profile_path': '/eryXT84RL41jHSJcMy4kS3u9y6w.jpg'},\n",
              " {'cast_id': 26,\n",
              "  'character': 'Andy (voice)',\n",
              "  'credit_id': '52fe4284c3a36847f8024fc1',\n",
              "  'gender': 0,\n",
              "  'id': 1116442,\n",
              "  'name': 'John Morris',\n",
              "  'order': 7,\n",
              "  'profile_path': '/vYGyvK4LzeaUCoNSHtsuqJUY15M.jpg'},\n",
              " {'cast_id': 22,\n",
              "  'character': 'Sid (voice)',\n",
              "  'credit_id': '52fe4284c3a36847f8024fb1',\n",
              "  'gender': 2,\n",
              "  'id': 12901,\n",
              "  'name': 'Erik von Detten',\n",
              "  'order': 8,\n",
              "  'profile_path': '/twnF1ZaJ1FUNUuo6xLXwcxjayBE.jpg'},\n",
              " {'cast_id': 23,\n",
              "  'character': 'Mrs. Davis (voice)',\n",
              "  'credit_id': '52fe4284c3a36847f8024fb5',\n",
              "  'gender': 1,\n",
              "  'id': 12133,\n",
              "  'name': 'Laurie Metcalf',\n",
              "  'order': 9,\n",
              "  'profile_path': '/unMMIT60eoBM2sN2nyR7EZ2BvvD.jpg'},\n",
              " {'cast_id': 24,\n",
              "  'character': 'Sergeant (voice)',\n",
              "  'credit_id': '52fe4284c3a36847f8024fb9',\n",
              "  'gender': 2,\n",
              "  'id': 8655,\n",
              "  'name': 'R. Lee Ermey',\n",
              "  'order': 10,\n",
              "  'profile_path': '/r8GBqFBjypLUP9VVqDqfZ7wYbSs.jpg'},\n",
              " {'cast_id': 25,\n",
              "  'character': 'Hannah (voice)',\n",
              "  'credit_id': '52fe4284c3a36847f8024fbd',\n",
              "  'gender': 1,\n",
              "  'id': 12903,\n",
              "  'name': 'Sarah Freeman',\n",
              "  'order': 11,\n",
              "  'profile_path': None},\n",
              " {'cast_id': 27,\n",
              "  'character': 'TV Announcer (voice)',\n",
              "  'credit_id': '52fe4284c3a36847f8024fc5',\n",
              "  'gender': 2,\n",
              "  'id': 37221,\n",
              "  'name': 'Penn Jillette',\n",
              "  'order': 12,\n",
              "  'profile_path': '/zmAaXUdx12NRsssgHbk1T31j2x9.jpg'}]"
            ]
          },
          "metadata": {
            "tags": []
          },
          "execution_count": 117
        }
      ]
    },
    {
      "cell_type": "code",
      "metadata": {
        "id": "FhrVwvii3QYF"
      },
      "source": [
        "smd2['cast'] = smd2['cast'].apply(lambda x: [i['name'] for i in x] )\n",
        "smd2['cast'] = smd2['cast'].apply(lambda x: x[:3] if len(x) >=3 else x)"
      ],
      "execution_count": 118,
      "outputs": []
    },
    {
      "cell_type": "code",
      "metadata": {
        "colab": {
          "base_uri": "https://localhost:8080/"
        },
        "id": "Tta1gjOf3ZC4",
        "outputId": "c52756f3-44cf-42e8-93eb-03b984a0af94"
      },
      "source": [
        "smd2['cast'][0] #I consider top three actor."
      ],
      "execution_count": 119,
      "outputs": [
        {
          "output_type": "execute_result",
          "data": {
            "text/plain": [
              "['Tom Hanks', 'Tim Allen', 'Don Rickles']"
            ]
          },
          "metadata": {
            "tags": []
          },
          "execution_count": 119
        }
      ]
    },
    {
      "cell_type": "code",
      "metadata": {
        "colab": {
          "base_uri": "https://localhost:8080/"
        },
        "id": "wT3nA0lE4Xnd",
        "outputId": "170cd5b2-125f-4164-e7fe-9f331d040a3a"
      },
      "source": [
        "smd2['keywords']"
      ],
      "execution_count": 120,
      "outputs": [
        {
          "output_type": "execute_result",
          "data": {
            "text/plain": [
              "0        [{'id': 931, 'name': 'jealousy'}, {'id': 4290,...\n",
              "1        [{'id': 10090, 'name': 'board game'}, {'id': 1...\n",
              "2        [{'id': 1495, 'name': 'fishing'}, {'id': 12392...\n",
              "3        [{'id': 818, 'name': 'based on novel'}, {'id':...\n",
              "4        [{'id': 1009, 'name': 'baby'}, {'id': 1599, 'n...\n",
              "                               ...                        \n",
              "52592    [{'id': 6054, 'name': 'friendship'}, {'id': 20...\n",
              "52812                 [{'id': 10540, 'name': 'bollywood'}]\n",
              "52865                 [{'id': 10540, 'name': 'bollywood'}]\n",
              "53031    [{'id': 1299, 'name': 'monster'}, {'id': 7671,...\n",
              "53309    [{'id': 6027, 'name': 'music'}, {'id': 10073, ...\n",
              "Name: keywords, Length: 11367, dtype: object"
            ]
          },
          "metadata": {
            "tags": []
          },
          "execution_count": 120
        }
      ]
    },
    {
      "cell_type": "code",
      "metadata": {
        "id": "FmwSOYLQ4ida"
      },
      "source": [
        "smd2['keywords'] = smd2['keywords'].apply(lambda x: [i['name'] for i in x] )"
      ],
      "execution_count": 121,
      "outputs": []
    },
    {
      "cell_type": "code",
      "metadata": {
        "colab": {
          "base_uri": "https://localhost:8080/"
        },
        "id": "MAFzPbk94lXn",
        "outputId": "58a77b16-11cf-45b7-d3b4-ec01e2c904b8"
      },
      "source": [
        "smd2['keywords']"
      ],
      "execution_count": 122,
      "outputs": [
        {
          "output_type": "execute_result",
          "data": {
            "text/plain": [
              "0        [jealousy, toy, boy, friendship, friends, riva...\n",
              "1        [board game, disappearance, based on children'...\n",
              "2        [fishing, best friend, duringcreditsstinger, o...\n",
              "3        [based on novel, interracial relationship, sin...\n",
              "4        [baby, midlife crisis, confidence, aging, daug...\n",
              "                               ...                        \n",
              "52592                           [friendship, brick making]\n",
              "52812                                          [bollywood]\n",
              "52865                                          [bollywood]\n",
              "53031    [monster, godzilla, giant monster, destruction...\n",
              "53309                                 [music, documentary]\n",
              "Name: keywords, Length: 11367, dtype: object"
            ]
          },
          "metadata": {
            "tags": []
          },
          "execution_count": 122
        }
      ]
    },
    {
      "cell_type": "code",
      "metadata": {
        "id": "OvKpQYcj4oSN"
      },
      "source": [
        "smd2['cast'] = smd2['cast'].apply(lambda x: [str.lower(i.replace(\" \", \"\")) for i in x])"
      ],
      "execution_count": 123,
      "outputs": []
    },
    {
      "cell_type": "code",
      "metadata": {
        "colab": {
          "base_uri": "https://localhost:8080/"
        },
        "id": "VZrQMA2t4sLU",
        "outputId": "f7ab738c-192c-4042-b25f-3216108ef156"
      },
      "source": [
        "smd2['director']"
      ],
      "execution_count": 124,
      "outputs": [
        {
          "output_type": "execute_result",
          "data": {
            "text/plain": [
              "0             John Lasseter\n",
              "1              Joe Johnston\n",
              "2             Howard Deutch\n",
              "3           Forest Whitaker\n",
              "4             Charles Shyer\n",
              "                ...        \n",
              "52592        Gregg Champion\n",
              "52812     Tinu Suresh Desai\n",
              "52865    Ashutosh Gowariker\n",
              "53031          Hideaki Anno\n",
              "53309            Ron Howard\n",
              "Name: director, Length: 11367, dtype: object"
            ]
          },
          "metadata": {
            "tags": []
          },
          "execution_count": 124
        }
      ]
    },
    {
      "cell_type": "code",
      "metadata": {
        "id": "9b0MHCCI4xA4"
      },
      "source": [
        "smd2['director'] = smd2['director'].astype('str').apply(lambda x: str.lower(x.replace(\" \", \"\")))\n",
        "smd2['director'] = smd2['director'].apply(lambda x: [x,x, x])# to add more priority to director"
      ],
      "execution_count": 125,
      "outputs": []
    },
    {
      "cell_type": "markdown",
      "metadata": {
        "id": "1uHf7wfR42MG"
      },
      "source": [
        "Here I copy the director nae three times as I consider top three actor for giving equility to the director column and cast column.My tendenct is to keep equal number of person in two columns for each row. "
      ]
    },
    {
      "cell_type": "code",
      "metadata": {
        "colab": {
          "base_uri": "https://localhost:8080/"
        },
        "id": "eclHAMwo41MP",
        "outputId": "55c28153-59ae-4c8a-96d4-8fd411b9840a"
      },
      "source": [
        "smd2['director']"
      ],
      "execution_count": 126,
      "outputs": [
        {
          "output_type": "execute_result",
          "data": {
            "text/plain": [
              "0               [johnlasseter, johnlasseter, johnlasseter]\n",
              "1                  [joejohnston, joejohnston, joejohnston]\n",
              "2               [howarddeutch, howarddeutch, howarddeutch]\n",
              "3         [forestwhitaker, forestwhitaker, forestwhitaker]\n",
              "4               [charlesshyer, charlesshyer, charlesshyer]\n",
              "                               ...                        \n",
              "52592        [greggchampion, greggchampion, greggchampion]\n",
              "52812    [tinusureshdesai, tinusureshdesai, tinusureshd...\n",
              "52865    [ashutoshgowariker, ashutoshgowariker, ashutos...\n",
              "53031              [hideakianno, hideakianno, hideakianno]\n",
              "53309                    [ronhoward, ronhoward, ronhoward]\n",
              "Name: director, Length: 11367, dtype: object"
            ]
          },
          "metadata": {
            "tags": []
          },
          "execution_count": 126
        }
      ]
    },
    {
      "cell_type": "code",
      "metadata": {
        "colab": {
          "base_uri": "https://localhost:8080/",
          "height": 1000
        },
        "id": "osS2x3nJ5oYY",
        "outputId": "5222d48e-f3d5-4ef1-b2ae-9278a32f8ab3"
      },
      "source": [
        "smd2"
      ],
      "execution_count": 127,
      "outputs": [
        {
          "output_type": "execute_result",
          "data": {
            "text/html": [
              "<div>\n",
              "<style scoped>\n",
              "    .dataframe tbody tr th:only-of-type {\n",
              "        vertical-align: middle;\n",
              "    }\n",
              "\n",
              "    .dataframe tbody tr th {\n",
              "        vertical-align: top;\n",
              "    }\n",
              "\n",
              "    .dataframe thead th {\n",
              "        text-align: right;\n",
              "    }\n",
              "</style>\n",
              "<table border=\"1\" class=\"dataframe\">\n",
              "  <thead>\n",
              "    <tr style=\"text-align: right;\">\n",
              "      <th></th>\n",
              "      <th>adult</th>\n",
              "      <th>belongs_to_collection</th>\n",
              "      <th>budget</th>\n",
              "      <th>genres</th>\n",
              "      <th>homepage</th>\n",
              "      <th>id</th>\n",
              "      <th>imdb_id</th>\n",
              "      <th>original_language</th>\n",
              "      <th>original_title</th>\n",
              "      <th>overview</th>\n",
              "      <th>popularity</th>\n",
              "      <th>poster_path</th>\n",
              "      <th>production_companies</th>\n",
              "      <th>production_countries</th>\n",
              "      <th>release_date</th>\n",
              "      <th>revenue</th>\n",
              "      <th>runtime</th>\n",
              "      <th>spoken_languages</th>\n",
              "      <th>status</th>\n",
              "      <th>tagline</th>\n",
              "      <th>title</th>\n",
              "      <th>video</th>\n",
              "      <th>vote_average</th>\n",
              "      <th>vote_count</th>\n",
              "      <th>cast_x</th>\n",
              "      <th>crew_x</th>\n",
              "      <th>keywords_x</th>\n",
              "      <th>cast_y</th>\n",
              "      <th>crew_y</th>\n",
              "      <th>keywords_y</th>\n",
              "      <th>cast</th>\n",
              "      <th>crew</th>\n",
              "      <th>keywords</th>\n",
              "      <th>cast_size</th>\n",
              "      <th>crew_size</th>\n",
              "      <th>director</th>\n",
              "    </tr>\n",
              "  </thead>\n",
              "  <tbody>\n",
              "    <tr>\n",
              "      <th>0</th>\n",
              "      <td>False</td>\n",
              "      <td>{'id': 10194, 'name': 'Toy Story Collection', ...</td>\n",
              "      <td>30000000</td>\n",
              "      <td>[{'id': 16, 'name': 'Animation'}, {'id': 35, '...</td>\n",
              "      <td>http://toystory.disney.com/toy-story</td>\n",
              "      <td>862</td>\n",
              "      <td>tt0114709</td>\n",
              "      <td>en</td>\n",
              "      <td>Toy Story</td>\n",
              "      <td>Led by Woody, Andy's toys live happily in his ...</td>\n",
              "      <td>21.9469</td>\n",
              "      <td>/rhIRbceoE9lR4veEXuwCC2wARtG.jpg</td>\n",
              "      <td>[{'name': 'Pixar Animation Studios', 'id': 3}]</td>\n",
              "      <td>[{'iso_3166_1': 'US', 'name': 'United States o...</td>\n",
              "      <td>1995-10-30</td>\n",
              "      <td>373554033.0</td>\n",
              "      <td>81.0</td>\n",
              "      <td>[{'iso_639_1': 'en', 'name': 'English'}]</td>\n",
              "      <td>Released</td>\n",
              "      <td>NaN</td>\n",
              "      <td>Toy Story</td>\n",
              "      <td>False</td>\n",
              "      <td>7.7</td>\n",
              "      <td>5415.0</td>\n",
              "      <td>[{'cast_id': 14, 'character': 'Woody (voice)',...</td>\n",
              "      <td>[{'credit_id': '52fe4284c3a36847f8024f49', 'de...</td>\n",
              "      <td>[{'id': 931, 'name': 'jealousy'}, {'id': 4290,...</td>\n",
              "      <td>[{'cast_id': 14, 'character': 'Woody (voice)',...</td>\n",
              "      <td>[{'credit_id': '52fe4284c3a36847f8024f49', 'de...</td>\n",
              "      <td>[{'id': 931, 'name': 'jealousy'}, {'id': 4290,...</td>\n",
              "      <td>[tomhanks, timallen, donrickles]</td>\n",
              "      <td>[{'credit_id': '52fe4284c3a36847f8024f49', 'de...</td>\n",
              "      <td>[jealousy, toy, boy, friendship, friends, riva...</td>\n",
              "      <td>13</td>\n",
              "      <td>106</td>\n",
              "      <td>[johnlasseter, johnlasseter, johnlasseter]</td>\n",
              "    </tr>\n",
              "    <tr>\n",
              "      <th>1</th>\n",
              "      <td>False</td>\n",
              "      <td>NaN</td>\n",
              "      <td>65000000</td>\n",
              "      <td>[{'id': 12, 'name': 'Adventure'}, {'id': 14, '...</td>\n",
              "      <td>NaN</td>\n",
              "      <td>8844</td>\n",
              "      <td>tt0113497</td>\n",
              "      <td>en</td>\n",
              "      <td>Jumanji</td>\n",
              "      <td>When siblings Judy and Peter discover an encha...</td>\n",
              "      <td>17.0155</td>\n",
              "      <td>/vzmL6fP7aPKNKPRTFnZmiUfciyV.jpg</td>\n",
              "      <td>[{'name': 'TriStar Pictures', 'id': 559}, {'na...</td>\n",
              "      <td>[{'iso_3166_1': 'US', 'name': 'United States o...</td>\n",
              "      <td>1995-12-15</td>\n",
              "      <td>262797249.0</td>\n",
              "      <td>104.0</td>\n",
              "      <td>[{'iso_639_1': 'en', 'name': 'English'}, {'iso...</td>\n",
              "      <td>Released</td>\n",
              "      <td>Roll the dice and unleash the excitement!</td>\n",
              "      <td>Jumanji</td>\n",
              "      <td>False</td>\n",
              "      <td>6.9</td>\n",
              "      <td>2413.0</td>\n",
              "      <td>[{'cast_id': 1, 'character': 'Alan Parrish', '...</td>\n",
              "      <td>[{'credit_id': '52fe44bfc3a36847f80a7cd1', 'de...</td>\n",
              "      <td>[{'id': 10090, 'name': 'board game'}, {'id': 1...</td>\n",
              "      <td>[{'cast_id': 1, 'character': 'Alan Parrish', '...</td>\n",
              "      <td>[{'credit_id': '52fe44bfc3a36847f80a7cd1', 'de...</td>\n",
              "      <td>[{'id': 10090, 'name': 'board game'}, {'id': 1...</td>\n",
              "      <td>[robinwilliams, jonathanhyde, kirstendunst]</td>\n",
              "      <td>[{'credit_id': '52fe44bfc3a36847f80a7cd1', 'de...</td>\n",
              "      <td>[board game, disappearance, based on children'...</td>\n",
              "      <td>26</td>\n",
              "      <td>16</td>\n",
              "      <td>[joejohnston, joejohnston, joejohnston]</td>\n",
              "    </tr>\n",
              "    <tr>\n",
              "      <th>2</th>\n",
              "      <td>False</td>\n",
              "      <td>{'id': 119050, 'name': 'Grumpy Old Men Collect...</td>\n",
              "      <td>0</td>\n",
              "      <td>[{'id': 10749, 'name': 'Romance'}, {'id': 35, ...</td>\n",
              "      <td>NaN</td>\n",
              "      <td>15602</td>\n",
              "      <td>tt0113228</td>\n",
              "      <td>en</td>\n",
              "      <td>Grumpier Old Men</td>\n",
              "      <td>A family wedding reignites the ancient feud be...</td>\n",
              "      <td>11.7129</td>\n",
              "      <td>/6ksm1sjKMFLbO7UY2i6G1ju9SML.jpg</td>\n",
              "      <td>[{'name': 'Warner Bros.', 'id': 6194}, {'name'...</td>\n",
              "      <td>[{'iso_3166_1': 'US', 'name': 'United States o...</td>\n",
              "      <td>1995-12-22</td>\n",
              "      <td>0.0</td>\n",
              "      <td>101.0</td>\n",
              "      <td>[{'iso_639_1': 'en', 'name': 'English'}]</td>\n",
              "      <td>Released</td>\n",
              "      <td>Still Yelling. Still Fighting. Still Ready for...</td>\n",
              "      <td>Grumpier Old Men</td>\n",
              "      <td>False</td>\n",
              "      <td>6.5</td>\n",
              "      <td>92.0</td>\n",
              "      <td>[{'cast_id': 2, 'character': 'Max Goldman', 'c...</td>\n",
              "      <td>[{'credit_id': '52fe466a9251416c75077a89', 'de...</td>\n",
              "      <td>[{'id': 1495, 'name': 'fishing'}, {'id': 12392...</td>\n",
              "      <td>[{'cast_id': 2, 'character': 'Max Goldman', 'c...</td>\n",
              "      <td>[{'credit_id': '52fe466a9251416c75077a89', 'de...</td>\n",
              "      <td>[{'id': 1495, 'name': 'fishing'}, {'id': 12392...</td>\n",
              "      <td>[waltermatthau, jacklemmon, ann-margret]</td>\n",
              "      <td>[{'credit_id': '52fe466a9251416c75077a89', 'de...</td>\n",
              "      <td>[fishing, best friend, duringcreditsstinger, o...</td>\n",
              "      <td>7</td>\n",
              "      <td>4</td>\n",
              "      <td>[howarddeutch, howarddeutch, howarddeutch]</td>\n",
              "    </tr>\n",
              "    <tr>\n",
              "      <th>3</th>\n",
              "      <td>False</td>\n",
              "      <td>NaN</td>\n",
              "      <td>16000000</td>\n",
              "      <td>[{'id': 35, 'name': 'Comedy'}, {'id': 18, 'nam...</td>\n",
              "      <td>NaN</td>\n",
              "      <td>31357</td>\n",
              "      <td>tt0114885</td>\n",
              "      <td>en</td>\n",
              "      <td>Waiting to Exhale</td>\n",
              "      <td>Cheated on, mistreated and stepped on, the wom...</td>\n",
              "      <td>3.85949</td>\n",
              "      <td>/16XOMpEaLWkrcPqSQqhTmeJuqQl.jpg</td>\n",
              "      <td>[{'name': 'Twentieth Century Fox Film Corporat...</td>\n",
              "      <td>[{'iso_3166_1': 'US', 'name': 'United States o...</td>\n",
              "      <td>1995-12-22</td>\n",
              "      <td>81452156.0</td>\n",
              "      <td>127.0</td>\n",
              "      <td>[{'iso_639_1': 'en', 'name': 'English'}]</td>\n",
              "      <td>Released</td>\n",
              "      <td>Friends are the people who let you be yourself...</td>\n",
              "      <td>Waiting to Exhale</td>\n",
              "      <td>False</td>\n",
              "      <td>6.1</td>\n",
              "      <td>34.0</td>\n",
              "      <td>[{'cast_id': 1, 'character': \"Savannah 'Vannah...</td>\n",
              "      <td>[{'credit_id': '52fe44779251416c91011acb', 'de...</td>\n",
              "      <td>[{'id': 818, 'name': 'based on novel'}, {'id':...</td>\n",
              "      <td>[{'cast_id': 1, 'character': \"Savannah 'Vannah...</td>\n",
              "      <td>[{'credit_id': '52fe44779251416c91011acb', 'de...</td>\n",
              "      <td>[{'id': 818, 'name': 'based on novel'}, {'id':...</td>\n",
              "      <td>[whitneyhouston, angelabassett, lorettadevine]</td>\n",
              "      <td>[{'credit_id': '52fe44779251416c91011acb', 'de...</td>\n",
              "      <td>[based on novel, interracial relationship, sin...</td>\n",
              "      <td>10</td>\n",
              "      <td>10</td>\n",
              "      <td>[forestwhitaker, forestwhitaker, forestwhitaker]</td>\n",
              "    </tr>\n",
              "    <tr>\n",
              "      <th>4</th>\n",
              "      <td>False</td>\n",
              "      <td>{'id': 96871, 'name': 'Father of the Bride Col...</td>\n",
              "      <td>0</td>\n",
              "      <td>[{'id': 35, 'name': 'Comedy'}]</td>\n",
              "      <td>NaN</td>\n",
              "      <td>11862</td>\n",
              "      <td>tt0113041</td>\n",
              "      <td>en</td>\n",
              "      <td>Father of the Bride Part II</td>\n",
              "      <td>Just when George Banks has recovered from his ...</td>\n",
              "      <td>8.38752</td>\n",
              "      <td>/e64sOI48hQXyru7naBFyssKFxVd.jpg</td>\n",
              "      <td>[{'name': 'Sandollar Productions', 'id': 5842}...</td>\n",
              "      <td>[{'iso_3166_1': 'US', 'name': 'United States o...</td>\n",
              "      <td>1995-02-10</td>\n",
              "      <td>76578911.0</td>\n",
              "      <td>106.0</td>\n",
              "      <td>[{'iso_639_1': 'en', 'name': 'English'}]</td>\n",
              "      <td>Released</td>\n",
              "      <td>Just When His World Is Back To Normal... He's ...</td>\n",
              "      <td>Father of the Bride Part II</td>\n",
              "      <td>False</td>\n",
              "      <td>5.7</td>\n",
              "      <td>173.0</td>\n",
              "      <td>[{'cast_id': 1, 'character': 'George Banks', '...</td>\n",
              "      <td>[{'credit_id': '52fe44959251416c75039ed7', 'de...</td>\n",
              "      <td>[{'id': 1009, 'name': 'baby'}, {'id': 1599, 'n...</td>\n",
              "      <td>[{'cast_id': 1, 'character': 'George Banks', '...</td>\n",
              "      <td>[{'credit_id': '52fe44959251416c75039ed7', 'de...</td>\n",
              "      <td>[{'id': 1009, 'name': 'baby'}, {'id': 1599, 'n...</td>\n",
              "      <td>[stevemartin, dianekeaton, martinshort]</td>\n",
              "      <td>[{'credit_id': '52fe44959251416c75039ed7', 'de...</td>\n",
              "      <td>[baby, midlife crisis, confidence, aging, daug...</td>\n",
              "      <td>12</td>\n",
              "      <td>7</td>\n",
              "      <td>[charlesshyer, charlesshyer, charlesshyer]</td>\n",
              "    </tr>\n",
              "    <tr>\n",
              "      <th>...</th>\n",
              "      <td>...</td>\n",
              "      <td>...</td>\n",
              "      <td>...</td>\n",
              "      <td>...</td>\n",
              "      <td>...</td>\n",
              "      <td>...</td>\n",
              "      <td>...</td>\n",
              "      <td>...</td>\n",
              "      <td>...</td>\n",
              "      <td>...</td>\n",
              "      <td>...</td>\n",
              "      <td>...</td>\n",
              "      <td>...</td>\n",
              "      <td>...</td>\n",
              "      <td>...</td>\n",
              "      <td>...</td>\n",
              "      <td>...</td>\n",
              "      <td>...</td>\n",
              "      <td>...</td>\n",
              "      <td>...</td>\n",
              "      <td>...</td>\n",
              "      <td>...</td>\n",
              "      <td>...</td>\n",
              "      <td>...</td>\n",
              "      <td>...</td>\n",
              "      <td>...</td>\n",
              "      <td>...</td>\n",
              "      <td>...</td>\n",
              "      <td>...</td>\n",
              "      <td>...</td>\n",
              "      <td>...</td>\n",
              "      <td>...</td>\n",
              "      <td>...</td>\n",
              "      <td>...</td>\n",
              "      <td>...</td>\n",
              "      <td>...</td>\n",
              "    </tr>\n",
              "    <tr>\n",
              "      <th>52592</th>\n",
              "      <td>False</td>\n",
              "      <td>NaN</td>\n",
              "      <td>8000000</td>\n",
              "      <td>[{'id': 18, 'name': 'Drama'}]</td>\n",
              "      <td>NaN</td>\n",
              "      <td>159550</td>\n",
              "      <td>tt0255313</td>\n",
              "      <td>en</td>\n",
              "      <td>The Last Brickmaker in America</td>\n",
              "      <td>A man must cope with the loss of his wife and ...</td>\n",
              "      <td>0.038998</td>\n",
              "      <td>/yWp7PgydSlxlhl7benKhTnCvRjN.jpg</td>\n",
              "      <td>[{'name': 'Nasser Entertainment', 'id': 35802}]</td>\n",
              "      <td>[{'iso_3166_1': 'US', 'name': 'United States o...</td>\n",
              "      <td>2001-09-23</td>\n",
              "      <td>0.0</td>\n",
              "      <td>85.0</td>\n",
              "      <td>[]</td>\n",
              "      <td>Released</td>\n",
              "      <td>NaN</td>\n",
              "      <td>The Last Brickmaker in America</td>\n",
              "      <td>False</td>\n",
              "      <td>7.0</td>\n",
              "      <td>1.0</td>\n",
              "      <td>[{'cast_id': 1, 'character': 'Henry Cobb', 'cr...</td>\n",
              "      <td>[{'credit_id': '544475aac3a36819fb000578', 'de...</td>\n",
              "      <td>[{'id': 6054, 'name': 'friendship'}, {'id': 20...</td>\n",
              "      <td>[{'cast_id': 1, 'character': 'Henry Cobb', 'cr...</td>\n",
              "      <td>[{'credit_id': '544475aac3a36819fb000578', 'de...</td>\n",
              "      <td>[{'id': 6054, 'name': 'friendship'}, {'id': 20...</td>\n",
              "      <td>[sidneypoitier, wendycrewson, jayo.sanders]</td>\n",
              "      <td>[{'credit_id': '544475aac3a36819fb000578', 'de...</td>\n",
              "      <td>[friendship, brick making]</td>\n",
              "      <td>7</td>\n",
              "      <td>2</td>\n",
              "      <td>[greggchampion, greggchampion, greggchampion]</td>\n",
              "    </tr>\n",
              "    <tr>\n",
              "      <th>52812</th>\n",
              "      <td>False</td>\n",
              "      <td>NaN</td>\n",
              "      <td>1000000</td>\n",
              "      <td>[{'id': 53, 'name': 'Thriller'}, {'id': 10749,...</td>\n",
              "      <td>NaN</td>\n",
              "      <td>392572</td>\n",
              "      <td>tt5165344</td>\n",
              "      <td>hi</td>\n",
              "      <td>रुस्तम</td>\n",
              "      <td>Rustom Pavri, an honourable officer of the Ind...</td>\n",
              "      <td>7.333139</td>\n",
              "      <td>/q1lrN6ZrIsOs077lQB86aPGKZRF.jpg</td>\n",
              "      <td>[{'name': 'KriArj Entertainment', 'id': 91689}]</td>\n",
              "      <td>[{'iso_3166_1': 'IN', 'name': 'India'}]</td>\n",
              "      <td>2016-08-12</td>\n",
              "      <td>0.0</td>\n",
              "      <td>150.0</td>\n",
              "      <td>[{'iso_639_1': 'hi', 'name': 'हिन्दी'}]</td>\n",
              "      <td>Released</td>\n",
              "      <td>Decorated Officer. Devoted Family Man. Defendi...</td>\n",
              "      <td>Rustom</td>\n",
              "      <td>False</td>\n",
              "      <td>7.3</td>\n",
              "      <td>25.0</td>\n",
              "      <td>[{'cast_id': 0, 'character': 'Rustom Pavri', '...</td>\n",
              "      <td>[{'credit_id': '5951baf692514129c4016600', 'de...</td>\n",
              "      <td>[{'id': 10540, 'name': 'bollywood'}]</td>\n",
              "      <td>[{'cast_id': 0, 'character': 'Rustom Pavri', '...</td>\n",
              "      <td>[{'credit_id': '5951baf692514129c4016600', 'de...</td>\n",
              "      <td>[{'id': 10540, 'name': 'bollywood'}]</td>\n",
              "      <td>[akshaykumar, ileanad'cruz, eshagupta]</td>\n",
              "      <td>[{'credit_id': '5951baf692514129c4016600', 'de...</td>\n",
              "      <td>[bollywood]</td>\n",
              "      <td>14</td>\n",
              "      <td>16</td>\n",
              "      <td>[tinusureshdesai, tinusureshdesai, tinusureshd...</td>\n",
              "    </tr>\n",
              "    <tr>\n",
              "      <th>52865</th>\n",
              "      <td>False</td>\n",
              "      <td>NaN</td>\n",
              "      <td>15050000</td>\n",
              "      <td>[{'id': 12, 'name': 'Adventure'}, {'id': 18, '...</td>\n",
              "      <td>NaN</td>\n",
              "      <td>402672</td>\n",
              "      <td>tt3859980</td>\n",
              "      <td>hi</td>\n",
              "      <td>Mohenjo Daro</td>\n",
              "      <td>Village lad Sarman is drawn to big, bad Mohenj...</td>\n",
              "      <td>1.423358</td>\n",
              "      <td>/q2XVemXiWSa18mbaVpI3rbLXG2u.jpg</td>\n",
              "      <td>[{'name': 'UTV Motion Pictures', 'id': 2320}, ...</td>\n",
              "      <td>[{'iso_3166_1': 'IN', 'name': 'India'}]</td>\n",
              "      <td>2016-08-11</td>\n",
              "      <td>16180000.0</td>\n",
              "      <td>155.0</td>\n",
              "      <td>[{'iso_639_1': 'hi', 'name': 'हिन्दी'}]</td>\n",
              "      <td>Released</td>\n",
              "      <td>NaN</td>\n",
              "      <td>Mohenjo Daro</td>\n",
              "      <td>False</td>\n",
              "      <td>6.7</td>\n",
              "      <td>26.0</td>\n",
              "      <td>[{'cast_id': 0, 'character': 'Sarman', 'credit...</td>\n",
              "      <td>[{'credit_id': '57cd5d3592514179d50018e8', 'de...</td>\n",
              "      <td>[{'id': 10540, 'name': 'bollywood'}]</td>\n",
              "      <td>[{'cast_id': 0, 'character': 'Sarman', 'credit...</td>\n",
              "      <td>[{'credit_id': '57cd5d3592514179d50018e8', 'de...</td>\n",
              "      <td>[{'id': 10540, 'name': 'bollywood'}]</td>\n",
              "      <td>[hrithikroshan, poojahegde, kabirbedi]</td>\n",
              "      <td>[{'credit_id': '57cd5d3592514179d50018e8', 'de...</td>\n",
              "      <td>[bollywood]</td>\n",
              "      <td>12</td>\n",
              "      <td>16</td>\n",
              "      <td>[ashutoshgowariker, ashutoshgowariker, ashutos...</td>\n",
              "    </tr>\n",
              "    <tr>\n",
              "      <th>53031</th>\n",
              "      <td>False</td>\n",
              "      <td>NaN</td>\n",
              "      <td>15000000</td>\n",
              "      <td>[{'id': 28, 'name': 'Action'}, {'id': 12, 'nam...</td>\n",
              "      <td>NaN</td>\n",
              "      <td>315011</td>\n",
              "      <td>tt4262980</td>\n",
              "      <td>ja</td>\n",
              "      <td>シン・ゴジラ</td>\n",
              "      <td>From the mind behind Evangelion comes a hit la...</td>\n",
              "      <td>9.285519</td>\n",
              "      <td>/8YWirGQidtZeSEmhqvQM5FrI6N1.jpg</td>\n",
              "      <td>[{'name': 'Cine Bazar', 'id': 5896}, {'name': ...</td>\n",
              "      <td>[{'iso_3166_1': 'JP', 'name': 'Japan'}]</td>\n",
              "      <td>2016-07-29</td>\n",
              "      <td>77000000.0</td>\n",
              "      <td>120.0</td>\n",
              "      <td>[{'iso_639_1': 'it', 'name': 'Italiano'}, {'is...</td>\n",
              "      <td>Released</td>\n",
              "      <td>A god incarnate. A city doomed.</td>\n",
              "      <td>Shin Godzilla</td>\n",
              "      <td>False</td>\n",
              "      <td>6.6</td>\n",
              "      <td>152.0</td>\n",
              "      <td>[{'cast_id': 4, 'character': 'Rando Yaguchi : ...</td>\n",
              "      <td>[{'credit_id': '560892fa92514177550018b2', 'de...</td>\n",
              "      <td>[{'id': 1299, 'name': 'monster'}, {'id': 7671,...</td>\n",
              "      <td>[{'cast_id': 4, 'character': 'Rando Yaguchi : ...</td>\n",
              "      <td>[{'credit_id': '560892fa92514177550018b2', 'de...</td>\n",
              "      <td>[{'id': 1299, 'name': 'monster'}, {'id': 7671,...</td>\n",
              "      <td>[hirokihasegawa, yutakatakenouchi, satomiishih...</td>\n",
              "      <td>[{'credit_id': '560892fa92514177550018b2', 'de...</td>\n",
              "      <td>[monster, godzilla, giant monster, destruction...</td>\n",
              "      <td>49</td>\n",
              "      <td>27</td>\n",
              "      <td>[hideakianno, hideakianno, hideakianno]</td>\n",
              "    </tr>\n",
              "    <tr>\n",
              "      <th>53309</th>\n",
              "      <td>False</td>\n",
              "      <td>NaN</td>\n",
              "      <td>0</td>\n",
              "      <td>[{'id': 99, 'name': 'Documentary'}, {'id': 104...</td>\n",
              "      <td>http://www.thebeatlesliveproject.com/</td>\n",
              "      <td>391698</td>\n",
              "      <td>tt2531318</td>\n",
              "      <td>en</td>\n",
              "      <td>The Beatles: Eight Days a Week - The Touring Y...</td>\n",
              "      <td>The band stormed Europe in 1963, and, in 1964,...</td>\n",
              "      <td>7.078301</td>\n",
              "      <td>/uv7syi4vRyjvWoB8qExbqnbuCu5.jpg</td>\n",
              "      <td>[{'name': 'Imagine Entertainment', 'id': 23}, ...</td>\n",
              "      <td>[{'iso_3166_1': 'GB', 'name': 'United Kingdom'...</td>\n",
              "      <td>2016-09-15</td>\n",
              "      <td>0.0</td>\n",
              "      <td>99.0</td>\n",
              "      <td>[{'iso_639_1': 'en', 'name': 'English'}]</td>\n",
              "      <td>Released</td>\n",
              "      <td>The band you know. The story you don't.</td>\n",
              "      <td>The Beatles: Eight Days a Week - The Touring Y...</td>\n",
              "      <td>False</td>\n",
              "      <td>7.6</td>\n",
              "      <td>92.0</td>\n",
              "      <td>[{'cast_id': 0, 'character': 'Himself', 'credi...</td>\n",
              "      <td>[{'credit_id': '57057c6cc3a3680dca000285', 'de...</td>\n",
              "      <td>[{'id': 6027, 'name': 'music'}, {'id': 10073, ...</td>\n",
              "      <td>[{'cast_id': 0, 'character': 'Himself', 'credi...</td>\n",
              "      <td>[{'credit_id': '57057c6cc3a3680dca000285', 'de...</td>\n",
              "      <td>[{'id': 6027, 'name': 'music'}, {'id': 10073, ...</td>\n",
              "      <td>[paulmccartney, ringostarr, johnlennon]</td>\n",
              "      <td>[{'credit_id': '57057c6cc3a3680dca000285', 'de...</td>\n",
              "      <td>[music, documentary]</td>\n",
              "      <td>28</td>\n",
              "      <td>7</td>\n",
              "      <td>[ronhoward, ronhoward, ronhoward]</td>\n",
              "    </tr>\n",
              "  </tbody>\n",
              "</table>\n",
              "<p>11367 rows × 36 columns</p>\n",
              "</div>"
            ],
            "text/plain": [
              "       adult  ...                                           director\n",
              "0      False  ...         [johnlasseter, johnlasseter, johnlasseter]\n",
              "1      False  ...            [joejohnston, joejohnston, joejohnston]\n",
              "2      False  ...         [howarddeutch, howarddeutch, howarddeutch]\n",
              "3      False  ...   [forestwhitaker, forestwhitaker, forestwhitaker]\n",
              "4      False  ...         [charlesshyer, charlesshyer, charlesshyer]\n",
              "...      ...  ...                                                ...\n",
              "52592  False  ...      [greggchampion, greggchampion, greggchampion]\n",
              "52812  False  ...  [tinusureshdesai, tinusureshdesai, tinusureshd...\n",
              "52865  False  ...  [ashutoshgowariker, ashutoshgowariker, ashutos...\n",
              "53031  False  ...            [hideakianno, hideakianno, hideakianno]\n",
              "53309  False  ...                  [ronhoward, ronhoward, ronhoward]\n",
              "\n",
              "[11367 rows x 36 columns]"
            ]
          },
          "metadata": {
            "tags": []
          },
          "execution_count": 127
        }
      ]
    },
    {
      "cell_type": "code",
      "metadata": {
        "id": "o1youBz05qGj"
      },
      "source": [
        "#Putting index to all the keywords present in the 'keywords' column for each movie.\n",
        "s = smd2.apply(lambda x: pd.Series(x['keywords']),axis=1).stack().reset_index(level=1, drop=True)"
      ],
      "execution_count": 128,
      "outputs": []
    },
    {
      "cell_type": "code",
      "metadata": {
        "colab": {
          "base_uri": "https://localhost:8080/"
        },
        "id": "WgBbd6hi5uZE",
        "outputId": "45a3e0af-8af7-4387-c7b4-2093afb071fe"
      },
      "source": [
        "s"
      ],
      "execution_count": 129,
      "outputs": [
        {
          "output_type": "execute_result",
          "data": {
            "text/plain": [
              "0           jealousy\n",
              "0                toy\n",
              "0                boy\n",
              "0         friendship\n",
              "0            friends\n",
              "            ...     \n",
              "53031    destruction\n",
              "53031          kaiju\n",
              "53031          toyko\n",
              "53309          music\n",
              "53309    documentary\n",
              "Length: 78561, dtype: object"
            ]
          },
          "metadata": {
            "tags": []
          },
          "execution_count": 129
        }
      ]
    },
    {
      "cell_type": "code",
      "metadata": {
        "id": "94daWY_f59Q9"
      },
      "source": [
        "s = s.value_counts() #seeing the numbers of available unique keywords."
      ],
      "execution_count": 130,
      "outputs": []
    },
    {
      "cell_type": "code",
      "metadata": {
        "id": "N5gGWqLm5-Dy"
      },
      "source": [
        "s = s[s > 1] #considering the keyword which appears more than once."
      ],
      "execution_count": 131,
      "outputs": []
    },
    {
      "cell_type": "code",
      "metadata": {
        "id": "GH3YeyD86A8X"
      },
      "source": [
        "#Function Creation for considering the more than one appeared keyword in the keywords column of dataset \n",
        "def filter_keywords(x):\n",
        "    words = []\n",
        "    for i in x:\n",
        "        if i in s:\n",
        "            words.append(i)\n",
        "    return words"
      ],
      "execution_count": 145,
      "outputs": []
    },
    {
      "cell_type": "code",
      "metadata": {
        "id": "dw5C0lGO6LcK"
      },
      "source": [
        "from nltk.stem import SnowballStemmer\n",
        "stemmer = SnowballStemmer('english')   #Finding the root word"
      ],
      "execution_count": 134,
      "outputs": []
    },
    {
      "cell_type": "code",
      "metadata": {
        "id": "BYaQSEkV6Go_"
      },
      "source": [
        "#All the operations applying on data keywords column\n",
        "smd2['keywords'] = smd2['keywords'].apply(filter_keywords)\n",
        "smd2['keywords'] = smd2['keywords'].apply(lambda x: [stemmer.stem(i) for i in x])\n",
        "smd2['keywords'] = smd2['keywords'].apply(lambda x: [str.lower(i.replace(\" \", \"\")) for i in x])"
      ],
      "execution_count": 135,
      "outputs": []
    },
    {
      "cell_type": "code",
      "metadata": {
        "colab": {
          "base_uri": "https://localhost:8080/"
        },
        "id": "Rp64pWiO8qku",
        "outputId": "f512fb27-44f9-48b0-f136-78ca86ff8c0d"
      },
      "source": [
        "smd2['keywords']"
      ],
      "execution_count": 144,
      "outputs": [
        {
          "output_type": "execute_result",
          "data": {
            "text/plain": [
              "0        [jealousi, toy, boy, friendship, friend, rival...\n",
              "1        [boardgam, disappear, basedonchildren'sbook, n...\n",
              "2                   [fish, bestfriend, duringcreditssting]\n",
              "3        [basedonnovel, interracialrelationship, single...\n",
              "4        [babi, midlifecrisi, confid, age, daughter, mo...\n",
              "                               ...                        \n",
              "11362                                         [friendship]\n",
              "11363                                          [bollywood]\n",
              "11364                                          [bollywood]\n",
              "11365     [monster, godzilla, giantmonst, destruct, kaiju]\n",
              "11366                                 [music, documentari]\n",
              "Name: keywords, Length: 11367, dtype: object"
            ]
          },
          "metadata": {
            "tags": []
          },
          "execution_count": 144
        }
      ]
    },
    {
      "cell_type": "code",
      "metadata": {
        "id": "e-5YrTr_6JlB"
      },
      "source": [
        "#assigns a new column to the dataframe which combines all the corresponding unique metadata.\n",
        "\n",
        "smd2=smd2.assign(soup = smd2.keywords.astype(str) +smd2.crew.astype(str) + smd2.cast.astype(str) +smd2.genres.astype(str))\n"
      ],
      "execution_count": 136,
      "outputs": []
    },
    {
      "cell_type": "code",
      "metadata": {
        "colab": {
          "base_uri": "https://localhost:8080/"
        },
        "id": "LaVP6zfX8jX9",
        "outputId": "b2fd918c-cc03-4eea-a373-38e1b386134f"
      },
      "source": [
        "smd2['soup']"
      ],
      "execution_count": 143,
      "outputs": [
        {
          "output_type": "execute_result",
          "data": {
            "text/plain": [
              "0        ['jealousi', 'toy', 'boy', 'friendship', 'frie...\n",
              "1        ['boardgam', 'disappear', \"basedonchildren'sbo...\n",
              "2        ['fish', 'bestfriend', 'duringcreditssting'][{...\n",
              "3        ['basedonnovel', 'interracialrelationship', 's...\n",
              "4        ['babi', 'midlifecrisi', 'confid', 'age', 'dau...\n",
              "                               ...                        \n",
              "11362    ['friendship'][{'credit_id': '544475aac3a36819...\n",
              "11363    ['bollywood'][{'credit_id': '5951baf692514129c...\n",
              "11364    ['bollywood'][{'credit_id': '57cd5d3592514179d...\n",
              "11365    ['monster', 'godzilla', 'giantmonst', 'destruc...\n",
              "11366    ['music', 'documentari'][{'credit_id': '57057c...\n",
              "Name: soup, Length: 11367, dtype: object"
            ]
          },
          "metadata": {
            "tags": []
          },
          "execution_count": 143
        }
      ]
    },
    {
      "cell_type": "code",
      "metadata": {
        "id": "4EyKXvVZ6UHc"
      },
      "source": [
        "from sklearn.feature_extraction.text import CountVectorizer\n",
        "count = CountVectorizer(analyzer='word',min_df=0, stop_words='english')\n",
        "count_matrix = count.fit_transform(smd2['soup'])"
      ],
      "execution_count": 137,
      "outputs": []
    },
    {
      "cell_type": "code",
      "metadata": {
        "id": "2Vc9jW236brl"
      },
      "source": [
        "from sklearn.metrics.pairwise import cosine_similarity\n",
        "cosine_sim = cosine_similarity(count_matrix, count_matrix)"
      ],
      "execution_count": 138,
      "outputs": []
    },
    {
      "cell_type": "code",
      "metadata": {
        "id": "nQwUhFCQ6fmp"
      },
      "source": [
        "smd2 = smd2.reset_index()\n",
        "titles = smd2['title']\n",
        "indices = pd.Series(smd2.index, index=smd2['title'])"
      ],
      "execution_count": 139,
      "outputs": []
    },
    {
      "cell_type": "code",
      "metadata": {
        "colab": {
          "base_uri": "https://localhost:8080/"
        },
        "id": "1nGc_C716iKc",
        "outputId": "2d509ead-9c1e-4d0f-bc32-21e72cf0eb1d"
      },
      "source": [
        "#Calling the get_recommendation function for testing purpose\n",
        "get_recommendations('The Dark Knight').head(10)"
      ],
      "execution_count": 140,
      "outputs": [
        {
          "output_type": "execute_result",
          "data": {
            "text/plain": [
              "7538                Batman Begins\n",
              "10909                     Ant-Man\n",
              "10230            Django Unchained\n",
              "6160            Kill Bill: Vol. 2\n",
              "10973                   Insurgent\n",
              "9831        The Dark Knight Rises\n",
              "22                      Assassins\n",
              "266                  Pulp Fiction\n",
              "1218                     Die Hard\n",
              "525      The Silence of the Lambs\n",
              "Name: title, dtype: object"
            ]
          },
          "metadata": {
            "tags": []
          },
          "execution_count": 140
        }
      ]
    },
    {
      "cell_type": "markdown",
      "metadata": {
        "id": "nSJZDdQW7CBS"
      },
      "source": [
        "Introducing the Imdb rating formula with the metadata recommendation,Imdb formula is given with the dataset."
      ]
    },
    {
      "cell_type": "code",
      "metadata": {
        "id": "YUB9sGcE60U6"
      },
      "source": [
        "def improved_recommendations(title):\n",
        "    idx = indices[title]\n",
        "    sim_scores = list(enumerate(cosine_sim[idx]))\n",
        "    sim_scores = sorted(sim_scores, key=lambda x: x[1], reverse=True)\n",
        "    sim_scores = sim_scores[1:26]\n",
        "    movie_indices = [i[0] for i in sim_scores]\n",
        "    \n",
        "    movies = smd2.iloc[movie_indices][['title', 'vote_count', 'vote_average']]\n",
        "    vote_counts = movies[movies['vote_count'].notnull()]['vote_count'].astype('int')\n",
        "    vote_averages = movies[movies['vote_average'].notnull()]['vote_average'].astype('int')\n",
        "    C = vote_averages.mean()\n",
        "    m = vote_counts.quantile(0.6)\n",
        "    qualified = movies[(movies['vote_count'] >= m) & (movies['vote_count'].notnull()) & (movies['vote_average'].notnull())]\n",
        "    qualified['vote_count'] = qualified['vote_count'].astype('int')\n",
        "    qualified['vote_average'] = qualified['vote_average'].astype('int')\n",
        "    def weighted_rating(x, m=m, C=C):\n",
        "      v = x['vote_count']\n",
        "      R = x['vote_average']\n",
        "    # Compute the weighted score\n",
        "      return (v/(v+m) * R) + (m/(m+v) * C)\n",
        "    qualified['wr'] = qualified.apply(weighted_rating, axis=1)\n",
        "    qualified = qualified.sort_values('wr', ascending=False).head(10)\n",
        "    return qualified"
      ],
      "execution_count": 141,
      "outputs": []
    },
    {
      "cell_type": "code",
      "metadata": {
        "colab": {
          "base_uri": "https://localhost:8080/",
          "height": 352
        },
        "id": "sxHuOC0S68d7",
        "outputId": "ad76a49f-d818-415b-9298-033b513d7a74"
      },
      "source": [
        "improved_recommendations('The Dark Knight')"
      ],
      "execution_count": 142,
      "outputs": [
        {
          "output_type": "execute_result",
          "data": {
            "text/html": [
              "<div>\n",
              "<style scoped>\n",
              "    .dataframe tbody tr th:only-of-type {\n",
              "        vertical-align: middle;\n",
              "    }\n",
              "\n",
              "    .dataframe tbody tr th {\n",
              "        vertical-align: top;\n",
              "    }\n",
              "\n",
              "    .dataframe thead th {\n",
              "        text-align: right;\n",
              "    }\n",
              "</style>\n",
              "<table border=\"1\" class=\"dataframe\">\n",
              "  <thead>\n",
              "    <tr style=\"text-align: right;\">\n",
              "      <th></th>\n",
              "      <th>title</th>\n",
              "      <th>vote_count</th>\n",
              "      <th>vote_average</th>\n",
              "      <th>wr</th>\n",
              "    </tr>\n",
              "  </thead>\n",
              "  <tbody>\n",
              "    <tr>\n",
              "      <th>266</th>\n",
              "      <td>Pulp Fiction</td>\n",
              "      <td>8670</td>\n",
              "      <td>8</td>\n",
              "      <td>7.456254</td>\n",
              "    </tr>\n",
              "    <tr>\n",
              "      <th>525</th>\n",
              "      <td>The Silence of the Lambs</td>\n",
              "      <td>4549</td>\n",
              "      <td>8</td>\n",
              "      <td>7.207616</td>\n",
              "    </tr>\n",
              "    <tr>\n",
              "      <th>8063</th>\n",
              "      <td>The Prestige</td>\n",
              "      <td>4510</td>\n",
              "      <td>8</td>\n",
              "      <td>7.204172</td>\n",
              "    </tr>\n",
              "    <tr>\n",
              "      <th>10230</th>\n",
              "      <td>Django Unchained</td>\n",
              "      <td>10297</td>\n",
              "      <td>7</td>\n",
              "      <td>6.818572</td>\n",
              "    </tr>\n",
              "    <tr>\n",
              "      <th>9831</th>\n",
              "      <td>The Dark Knight Rises</td>\n",
              "      <td>9263</td>\n",
              "      <td>7</td>\n",
              "      <td>6.804904</td>\n",
              "    </tr>\n",
              "    <tr>\n",
              "      <th>7538</th>\n",
              "      <td>Batman Begins</td>\n",
              "      <td>7511</td>\n",
              "      <td>7</td>\n",
              "      <td>6.776359</td>\n",
              "    </tr>\n",
              "    <tr>\n",
              "      <th>5701</th>\n",
              "      <td>Pirates of the Caribbean: The Curse of the Bla...</td>\n",
              "      <td>7191</td>\n",
              "      <td>7</td>\n",
              "      <td>6.770218</td>\n",
              "    </tr>\n",
              "    <tr>\n",
              "      <th>4440</th>\n",
              "      <td>Harry Potter and the Philosopher's Stone</td>\n",
              "      <td>7188</td>\n",
              "      <td>7</td>\n",
              "      <td>6.770159</td>\n",
              "    </tr>\n",
              "    <tr>\n",
              "      <th>10909</th>\n",
              "      <td>Ant-Man</td>\n",
              "      <td>6029</td>\n",
              "      <td>7</td>\n",
              "      <td>6.744770</td>\n",
              "    </tr>\n",
              "    <tr>\n",
              "      <th>11064</th>\n",
              "      <td>Batman v Superman: Dawn of Justice</td>\n",
              "      <td>7189</td>\n",
              "      <td>5</td>\n",
              "      <td>5.536249</td>\n",
              "    </tr>\n",
              "  </tbody>\n",
              "</table>\n",
              "</div>"
            ],
            "text/plain": [
              "                                                   title  ...        wr\n",
              "266                                         Pulp Fiction  ...  7.456254\n",
              "525                             The Silence of the Lambs  ...  7.207616\n",
              "8063                                        The Prestige  ...  7.204172\n",
              "10230                                   Django Unchained  ...  6.818572\n",
              "9831                               The Dark Knight Rises  ...  6.804904\n",
              "7538                                       Batman Begins  ...  6.776359\n",
              "5701   Pirates of the Caribbean: The Curse of the Bla...  ...  6.770218\n",
              "4440            Harry Potter and the Philosopher's Stone  ...  6.770159\n",
              "10909                                            Ant-Man  ...  6.744770\n",
              "11064                 Batman v Superman: Dawn of Justice  ...  5.536249\n",
              "\n",
              "[10 rows x 4 columns]"
            ]
          },
          "metadata": {
            "tags": []
          },
          "execution_count": 142
        }
      ]
    }
  ]
}